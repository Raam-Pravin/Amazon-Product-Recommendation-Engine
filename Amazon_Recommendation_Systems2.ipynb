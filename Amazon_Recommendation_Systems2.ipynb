{
 "cells": [
  {
   "cell_type": "markdown",
   "metadata": {
    "id": "pXQzH0nC5JtP"
   },
   "source": [
    "# **Project: Amazon Product Recommendation System**\n",
    "\n",
    "----------------\n",
    "**Objective:**\n",
    "----------------\n",
    "\n",
    "I am building a recommendation system to recommend products to customers based on their previous ratings for other products. I use a collection of labeled data of Amazon reviews of products. My goal is to extract meaningful insights from the data and build a recommendation system that helps in recommending products to online consumers.\n",
    "\n",
    "-----------------------------\n",
    "**Dataset Overview:** \n",
    "-----------------------------\n",
    "\n",
    "The Amazon dataset contains the following attributes which are used:\n",
    "\n",
    "- **userId:** Every user identified with a unique id\n",
    "- **productId:** Every product identified with a unique id\n",
    "- **Rating:** The rating of the corresponding product by the corresponding user"
   ]
  },
  {
   "cell_type": "markdown",
   "metadata": {
    "id": "nmdPxJ2Q7W7p"
   },
   "source": ""
  },
  {
   "cell_type": "markdown",
   "metadata": {
    "id": "UoRfgjS2yekq"
   },
   "source": ""
  },
  {
   "cell_type": "markdown",
   "metadata": {
    "id": "0Ibk07-Cyekt"
   },
   "source": ""
  },
  {
   "cell_type": "markdown",
   "metadata": {
    "id": "7fIt4jcFIm76"
   },
   "source": [
    "## **Importing the necessary libraries and overview of the dataset**"
   ]
  },
  {
   "cell_type": "code",
   "metadata": {
    "id": "jzu2P-TT5JtP",
    "ExecuteTime": {
     "end_time": "2024-12-27T11:19:33.135441Z",
     "start_time": "2024-12-27T11:19:33.133110Z"
    }
   },
   "source": [
    "import surprise as surprise\n",
    "from surprise import SVD\n",
    "import numpy as np\n",
    "import pandas as pd\n",
    "from matplotlib import pyplot as plt\n",
    "import seaborn as sns\n",
    "from sklearn.metrics import mean_squared_error\n",
    "from collections import defaultdict"
   ],
   "outputs": [],
   "execution_count": 156
  },
  {
   "cell_type": "markdown",
   "metadata": {
    "id": "NrXYJAv95JtP"
   },
   "source": [
    "### **Loading data**\n",
    "- Import the Dataset\n",
    "- Add column names ['user_id', 'prod_id', 'rating', 'timestamp']\n",
    "- Drop the column timestamp\n",
    "- Copy the data to another DataFrame called **df**"
   ]
  },
  {
   "cell_type": "code",
   "metadata": {
    "id": "JGb-Hk1B5JtP",
    "ExecuteTime": {
     "end_time": "2024-12-27T11:19:37.111843Z",
     "start_time": "2024-12-27T11:19:33.615071Z"
    }
   },
   "source": [
    "#Loading the Data and adding column names\n",
    "df = pd.read_csv(\"/Users/rpravin/Downloads/ratings_Electronics.csv\")\n",
    "print(df.head())\n",
    "df.info()\n",
    "\n",
    "\n",
    "df.columns = ['user_id', 'prod_id', 'rating', 'timestamp']\n",
    "df.drop('timestamp', axis=1, inplace=True)"
   ],
   "outputs": [
    {
     "name": "stdout",
     "output_type": "stream",
     "text": [
      "    AKM1MP6P0OYPR  0132793040  5.0  1365811200\n",
      "0  A2CX7LUOHB2NDG  0321732944  5.0  1341100800\n",
      "1  A2NWSAGRHCP8N5  0439886341  1.0  1367193600\n",
      "2  A2WNBOD3WNDNKT  0439886341  3.0  1374451200\n",
      "3  A1GI0U4ZRJA8WN  0439886341  1.0  1334707200\n",
      "4  A1QGNMC6O1VW39  0511189877  5.0  1397433600\n",
      "<class 'pandas.core.frame.DataFrame'>\n",
      "RangeIndex: 7824481 entries, 0 to 7824480\n",
      "Data columns (total 4 columns):\n",
      " #   Column         Dtype  \n",
      "---  ------         -----  \n",
      " 0   AKM1MP6P0OYPR  object \n",
      " 1   0132793040     object \n",
      " 2   5.0            float64\n",
      " 3   1365811200     int64  \n",
      "dtypes: float64(1), int64(1), object(2)\n",
      "memory usage: 238.8+ MB\n"
     ]
    }
   ],
   "execution_count": 157
  },
  {
   "cell_type": "markdown",
   "metadata": {
    "id": "OVQnSG5g_9uX"
   },
   "source": [
    "**Many users have only rated a few products and some products are rated by very few users.**\n",
    "\n",
    "We will be including users who have given at least 50 ratings and products that have at least 5 ratings. "
   ]
  },
  {
   "cell_type": "code",
   "metadata": {
    "id": "4yt9W7Q32EQQ",
    "ExecuteTime": {
     "end_time": "2024-12-27T11:19:40.701699Z",
     "start_time": "2024-12-27T11:19:37.113206Z"
    }
   },
   "source": [
    "# Getting the column containing the users\n",
    "users = df.user_id\n",
    "\n",
    "# Creating a dictionary from users to their number of ratings\n",
    "ratings_count = dict()\n",
    "\n",
    "for user in users:\n",
    "\n",
    "    # If we already have the user add 1 to their rating count\n",
    "    if user in ratings_count:        \n",
    "        ratings_count[user] += 1\n",
    "  \n",
    "    # Otherwise set rating count to 1\n",
    "    else:\n",
    "        ratings_count[user] = 1"
   ],
   "outputs": [],
   "execution_count": 158
  },
  {
   "cell_type": "code",
   "metadata": {
    "id": "19XB60dq2EQR",
    "ExecuteTime": {
     "end_time": "2024-12-27T11:19:43.353227Z",
     "start_time": "2024-12-27T11:19:40.702468Z"
    }
   },
   "source": [
    "# Users with at least 50 ratings considered\n",
    "RATINGS_CUTOFF = 50\n",
    "\n",
    "remove_users = []\n",
    "\n",
    "for user, num_ratings in ratings_count.items():\n",
    "    if num_ratings < RATINGS_CUTOFF:\n",
    "        remove_users.append(user)\n",
    "\n",
    "df = df.loc[ ~ df.user_id.isin(remove_users)]"
   ],
   "outputs": [],
   "execution_count": 159
  },
  {
   "cell_type": "code",
   "metadata": {
    "id": "33UzK1D82EQS",
    "ExecuteTime": {
     "end_time": "2024-12-27T11:19:43.400684Z",
     "start_time": "2024-12-27T11:19:43.355327Z"
    }
   },
   "source": [
    "# Get the column containing the products\n",
    "prods = df.prod_id\n",
    "\n",
    "# Create a dictionary of products to number of ratings\n",
    "ratings_count = dict()\n",
    "\n",
    "for prod in prods:\n",
    "    \n",
    "    # If we already have the product, just add 1 to its rating count\n",
    "    if prod in ratings_count:\n",
    "        ratings_count[prod] += 1\n",
    "    \n",
    "    # Otherwise, set their rating count to 1\n",
    "    else:\n",
    "        ratings_count[prod] = 1    "
   ],
   "outputs": [],
   "execution_count": 160
  },
  {
   "cell_type": "code",
   "metadata": {
    "id": "u6YE-lUp2EQT",
    "ExecuteTime": {
     "end_time": "2024-12-27T11:19:43.441228Z",
     "start_time": "2024-12-27T11:19:43.401501Z"
    }
   },
   "source": [
    "# Items with at least 5 ratings considered\n",
    "RATINGS_CUTOFF = 5\n",
    "\n",
    "remove_users = []\n",
    "\n",
    "for user, num_ratings in ratings_count.items():\n",
    "    if num_ratings < RATINGS_CUTOFF:\n",
    "        remove_users.append(user)\n",
    "\n",
    "df_final = df.loc[~ df.prod_id.isin(remove_users)]"
   ],
   "outputs": [],
   "execution_count": 161
  },
  {
   "cell_type": "code",
   "metadata": {
    "id": "aL1JZ00o5JtQ",
    "ExecuteTime": {
     "end_time": "2024-12-27T11:19:43.445445Z",
     "start_time": "2024-12-27T11:19:43.441938Z"
    }
   },
   "source": [
    "# Print a few rows of final dataset\n",
    "df_final.head()"
   ],
   "outputs": [
    {
     "data": {
      "text/plain": [
       "             user_id     prod_id  rating\n",
       "1309  A3LDPF5FMB782Z  1400501466     5.0\n",
       "1321  A1A5KUIIIHFF4U  1400501466     1.0\n",
       "1334  A2XIOXRRYX0KZY  1400501466     3.0\n",
       "1450   AW3LX47IHPFRL  1400501466     5.0\n",
       "1455  A1E3OB6QMBKRYZ  1400501466     1.0"
      ],
      "text/html": [
       "<div>\n",
       "<style scoped>\n",
       "    .dataframe tbody tr th:only-of-type {\n",
       "        vertical-align: middle;\n",
       "    }\n",
       "\n",
       "    .dataframe tbody tr th {\n",
       "        vertical-align: top;\n",
       "    }\n",
       "\n",
       "    .dataframe thead th {\n",
       "        text-align: right;\n",
       "    }\n",
       "</style>\n",
       "<table border=\"1\" class=\"dataframe\">\n",
       "  <thead>\n",
       "    <tr style=\"text-align: right;\">\n",
       "      <th></th>\n",
       "      <th>user_id</th>\n",
       "      <th>prod_id</th>\n",
       "      <th>rating</th>\n",
       "    </tr>\n",
       "  </thead>\n",
       "  <tbody>\n",
       "    <tr>\n",
       "      <th>1309</th>\n",
       "      <td>A3LDPF5FMB782Z</td>\n",
       "      <td>1400501466</td>\n",
       "      <td>5.0</td>\n",
       "    </tr>\n",
       "    <tr>\n",
       "      <th>1321</th>\n",
       "      <td>A1A5KUIIIHFF4U</td>\n",
       "      <td>1400501466</td>\n",
       "      <td>1.0</td>\n",
       "    </tr>\n",
       "    <tr>\n",
       "      <th>1334</th>\n",
       "      <td>A2XIOXRRYX0KZY</td>\n",
       "      <td>1400501466</td>\n",
       "      <td>3.0</td>\n",
       "    </tr>\n",
       "    <tr>\n",
       "      <th>1450</th>\n",
       "      <td>AW3LX47IHPFRL</td>\n",
       "      <td>1400501466</td>\n",
       "      <td>5.0</td>\n",
       "    </tr>\n",
       "    <tr>\n",
       "      <th>1455</th>\n",
       "      <td>A1E3OB6QMBKRYZ</td>\n",
       "      <td>1400501466</td>\n",
       "      <td>1.0</td>\n",
       "    </tr>\n",
       "  </tbody>\n",
       "</table>\n",
       "</div>"
      ]
     },
     "execution_count": 162,
     "metadata": {},
     "output_type": "execute_result"
    }
   ],
   "execution_count": 162
  },
  {
   "cell_type": "markdown",
   "metadata": {
    "id": "GuPoy_XfxhXZ"
   },
   "source": [
    "## **Exploratory Data Analysis**"
   ]
  },
  {
   "cell_type": "markdown",
   "metadata": {
    "id": "s0d0bWeG-sVB"
   },
   "source": ""
  },
  {
   "cell_type": "markdown",
   "metadata": {
    "id": "qyBVTRDTyek0"
   },
   "source": "### **Checking the number of rows and columns**"
  },
  {
   "cell_type": "code",
   "metadata": {
    "id": "fJ4eQKaY5JtQ",
    "ExecuteTime": {
     "end_time": "2024-12-27T11:19:43.448756Z",
     "start_time": "2024-12-27T11:19:43.446094Z"
    }
   },
   "source": "print(df_final)",
   "outputs": [
    {
     "name": "stdout",
     "output_type": "stream",
     "text": [
      "                user_id     prod_id  rating\n",
      "1309     A3LDPF5FMB782Z  1400501466     5.0\n",
      "1321     A1A5KUIIIHFF4U  1400501466     1.0\n",
      "1334     A2XIOXRRYX0KZY  1400501466     3.0\n",
      "1450      AW3LX47IHPFRL  1400501466     5.0\n",
      "1455     A1E3OB6QMBKRYZ  1400501466     1.0\n",
      "...                 ...         ...     ...\n",
      "7824422  A34BZM6S9L7QI4  B00LGQ6HL8     5.0\n",
      "7824423  A1G650TTTHEAL5  B00LGQ6HL8     5.0\n",
      "7824424  A25C2M3QF9G7OQ  B00LGQ6HL8     5.0\n",
      "7824425   A1E1LEVQ9VQNK  B00LGQ6HL8     5.0\n",
      "7824426  A2NYK9KWFMJV4Y  B00LGQ6HL8     5.0\n",
      "\n",
      "[65290 rows x 3 columns]\n"
     ]
    }
   ],
   "execution_count": 163
  },
  {
   "cell_type": "markdown",
   "metadata": {
    "id": "Slp-fgWQ-sVD"
   },
   "source": "**Observations: 65,290 rows and 3 columns**"
  },
  {
   "cell_type": "markdown",
   "metadata": {
    "id": "lAMWm0nC-sVF"
   },
   "source": [
    "### **Data types**"
   ]
  },
  {
   "cell_type": "code",
   "metadata": {
    "id": "SVrgMkye5JtQ",
    "ExecuteTime": {
     "end_time": "2024-12-27T11:19:43.458775Z",
     "start_time": "2024-12-27T11:19:43.449580Z"
    }
   },
   "source": [
    "# Check Data types \n",
    "print(df_final.info())\n"
   ],
   "outputs": [
    {
     "name": "stdout",
     "output_type": "stream",
     "text": [
      "<class 'pandas.core.frame.DataFrame'>\n",
      "Index: 65290 entries, 1309 to 7824426\n",
      "Data columns (total 3 columns):\n",
      " #   Column   Non-Null Count  Dtype  \n",
      "---  ------   --------------  -----  \n",
      " 0   user_id  65290 non-null  object \n",
      " 1   prod_id  65290 non-null  object \n",
      " 2   rating   65290 non-null  float64\n",
      "dtypes: float64(1), object(2)\n",
      "memory usage: 2.0+ MB\n",
      "None\n"
     ]
    }
   ],
   "execution_count": 164
  },
  {
   "cell_type": "markdown",
   "metadata": {
    "id": "z4fOE02D-sVF"
   },
   "source": ""
  },
  {
   "cell_type": "markdown",
   "metadata": {
    "id": "lTMpOROT-sVG"
   },
   "source": [
    "### **Checking for missing values**"
   ]
  },
  {
   "cell_type": "code",
   "metadata": {
    "id": "vt-VEjMA5JtQ",
    "ExecuteTime": {
     "end_time": "2024-12-27T11:19:43.465523Z",
     "start_time": "2024-12-27T11:19:43.459485Z"
    }
   },
   "source": [
    "# Check for missing values present \n",
    "print(df_final.isnull().sum())"
   ],
   "outputs": [
    {
     "name": "stdout",
     "output_type": "stream",
     "text": [
      "user_id    0\n",
      "prod_id    0\n",
      "rating     0\n",
      "dtype: int64\n"
     ]
    }
   ],
   "execution_count": 165
  },
  {
   "cell_type": "markdown",
   "metadata": {
    "id": "qMWuBNhI5JtR"
   },
   "source": "**Observation: No missing values present in dataset**"
  },
  {
   "cell_type": "markdown",
   "metadata": {
    "id": "wETrCg48-sVG"
   },
   "source": [
    "### **Summary Statistics**"
   ]
  },
  {
   "cell_type": "code",
   "metadata": {
    "id": "tYm30MXR5JtR",
    "ExecuteTime": {
     "end_time": "2024-12-27T11:19:43.472389Z",
     "start_time": "2024-12-27T11:19:43.467649Z"
    }
   },
   "source": [
    "# Summary statistics of 'rating' variable \n",
    "print(df_final.describe())\n"
   ],
   "outputs": [
    {
     "name": "stdout",
     "output_type": "stream",
     "text": [
      "             rating\n",
      "count  65290.000000\n",
      "mean       4.294808\n",
      "std        0.988915\n",
      "min        1.000000\n",
      "25%        4.000000\n",
      "50%        5.000000\n",
      "75%        5.000000\n",
      "max        5.000000\n"
     ]
    }
   ],
   "execution_count": 166
  },
  {
   "cell_type": "markdown",
   "metadata": {
    "id": "VqW50EIJxhXc"
   },
   "source": ""
  },
  {
   "cell_type": "markdown",
   "metadata": {
    "id": "ywyFrZIf5JtR"
   },
   "source": [
    "### **Checking the rating distribution**"
   ]
  },
  {
   "cell_type": "code",
   "metadata": {
    "id": "QbqhbEVe-sVH",
    "ExecuteTime": {
     "end_time": "2024-12-27T11:19:43.868200Z",
     "start_time": "2024-12-27T11:19:43.473076Z"
    }
   },
   "source": [
    "# Create the bar plot and provide observations\n",
    "ratings_hist = sns.histplot(df_final['rating'])\n",
    "plt.show()"
   ],
   "outputs": [
    {
     "data": {
      "text/plain": [
       "<Figure size 640x480 with 1 Axes>"
      ],
      "image/png": "[encoded data removed]"
     },
     "metadata": {},
     "output_type": "display_data"
    }
   ],
   "execution_count": 167
  },
  {
   "cell_type": "markdown",
   "metadata": {
    "id": "t0jONrQv-sVH"
   },
   "source": "**Observation: Distribution heavily skewed left as more than half of ratings are five**"
  },
  {
   "cell_type": "markdown",
   "metadata": {
    "id": "HefpLdLJxhXd"
   },
   "source": [
    "### **Checking the number of unique users and items in the dataset**"
   ]
  },
  {
   "cell_type": "code",
   "metadata": {
    "id": "NbSom7195JtR",
    "ExecuteTime": {
     "end_time": "2024-12-27T11:19:43.879920Z",
     "start_time": "2024-12-27T11:19:43.869189Z"
    }
   },
   "source": [
    "# Number of total rows in the data \n",
    "total_rows = df_final.shape[0]\n",
    "print(\"Number of total rows in the data:\",total_rows)\n",
    "\n",
    "# Number of unique user IDs in the data\n",
    "unique_user_ids = df_final['user_id'].nunique()\n",
    "print(\"Number of unique user IDs in the data:\",unique_user_ids)\n",
    "\n",
    "# Number of unique product IDs in the data\n",
    "unique_prod_ids = df_final['prod_id'].nunique()\n",
    "print(\"Number of unique product IDs in the data:\",unique_prod_ids)"
   ],
   "outputs": [
    {
     "name": "stdout",
     "output_type": "stream",
     "text": [
      "Number of total rows in the data: 65290\n",
      "Number of unique user IDs in the data: 1540\n",
      "Number of unique product IDs in the data: 5689\n"
     ]
    }
   ],
   "execution_count": 168
  },
  {
   "cell_type": "markdown",
   "metadata": {
    "id": "Qwgz6CUt-sVI"
   },
   "source": ""
  },
  {
   "cell_type": "markdown",
   "metadata": {
    "id": "RfDnhSS4-sVI"
   },
   "source": [
    "### **Users with the most number of ratings**"
   ]
  },
  {
   "cell_type": "code",
   "metadata": {
    "id": "n7MX452q5JtR",
    "ExecuteTime": {
     "end_time": "2024-12-27T11:19:43.985552Z",
     "start_time": "2024-12-27T11:19:43.880808Z"
    }
   },
   "source": [
    "## Top 10 users based on the number of ratings\n",
    "\n",
    "users = df_final.user_id\n",
    "ratings_count = dict()\n",
    "for user in users:\n",
    "    if user in ratings_count:\n",
    "        ratings_count[user] += 1\n",
    "    else:\n",
    "        ratings_count[user] = 1\n",
    "ratings_count_df = pd.DataFrame.from_dict(ratings_count,\n",
    "                                          orient = 'index', columns=['Number_of_ratings'])\n",
    "ratings_count_df_sorted = ratings_count_df.sort_values(by='Number_of_ratings',\n",
    "                                                       ascending=False)\n",
    "\n",
    "print(\"Top Ten Users with highest number of Ratings\\n\", \"Users:\",ratings_count_df_sorted.head())"
   ],
   "outputs": [
    {
     "name": "stdout",
     "output_type": "stream",
     "text": [
      "Top Ten Users with highest number of Ratings\n",
      " Users:                 Number_of_ratings\n",
      "ADLVFFE4VBT8                  295\n",
      "A3OXHLG6DIBRW8                230\n",
      "A1ODOGXEYECQQ8                217\n",
      "A36K2N527TXXJN                212\n",
      "A25C2M3QF9G7OQ                203\n"
     ]
    }
   ],
   "execution_count": 169
  },
  {
   "cell_type": "markdown",
   "metadata": {
    "id": "1X2w_jt9-sVI"
   },
   "source": ""
  },
  {
   "cell_type": "markdown",
   "metadata": {
    "id": "EnYTx-Ol-sVg"
   },
   "source": ""
  },
  {
   "cell_type": "markdown",
   "metadata": {
    "id": "6xYGrGVy5JtS"
   },
   "source": [
    "## **Model 1: Rank Based Recommendation System**"
   ]
  },
  {
   "cell_type": "code",
   "metadata": {
    "id": "yxZTj1UPxhXh",
    "scrolled": true,
    "ExecuteTime": {
     "end_time": "2024-12-27T11:19:44.000655Z",
     "start_time": "2024-12-27T11:19:43.986419Z"
    }
   },
   "source": [
    "# Calculating average rating for each product \n",
    "average_rating = df_final.groupby('prod_id')['rating'].mean()\n",
    "\n",
    "# Calculating count of ratings for each product\n",
    "rating_count = df_final.groupby('prod_id')['rating'].count()\n",
    "\n",
    "# Creating dataframe with calculated average and count of ratings\n",
    "final_rating = pd.DataFrame({'average_rating': average_rating,\n",
    "                             'rating_count': rating_count})\n",
    "\n",
    "# Sorting dataframe by average of ratings in descending order\n",
    "final_rating_sorted = final_rating.sort_values(by='average_rating', ascending=False)\n",
    "\n",
    "# Printing first 10 records of the \"final_rating\" dataset\n",
    "print(final_rating_sorted.head(10))\n"
   ],
   "outputs": [
    {
     "name": "stdout",
     "output_type": "stream",
     "text": [
      "            average_rating  rating_count\n",
      "prod_id                                 \n",
      "B00LGQ6HL8             5.0             5\n",
      "B003DZJQQI             5.0            14\n",
      "B005FDXF2C             5.0             7\n",
      "B00I6CVPVC             5.0             7\n",
      "B00B9KOCYA             5.0             8\n",
      "B003CK10DG             5.0             5\n",
      "B003B41XYO             5.0             5\n",
      "B0007WK8KS             5.0             6\n",
      "B0084FM5JC             5.0             5\n",
      "B005GI2VMG             5.0            10\n"
     ]
    }
   ],
   "execution_count": 170
  },
  {
   "cell_type": "code",
   "metadata": {
    "id": "zKU__5s1xhXi",
    "ExecuteTime": {
     "end_time": "2024-12-27T11:19:44.003591Z",
     "start_time": "2024-12-27T11:19:44.001507Z"
    }
   },
   "source": [
    "# Defining a function to get the top n products based on the highest average rating and minimum interactions\n",
    "def get_top_n_products(df, n,minn):\n",
    "    average_rating = df.groupby('prod_id')['rating'].mean()\n",
    "    rating_count = df.groupby('prod_id')['rating'].count()\n",
    "    final_rating = pd.DataFrame({'average_rating': average_rating, 'rating_count': rating_count})\n",
    "    # Finding products with minimum number of interactions\n",
    "    min_interactions = minn\n",
    "    min_interactions_products = final_rating[final_rating['rating_count'] >= min_interactions]\n",
    "    # Sorting values with respect to average rating\n",
    "    top_n_products = min_interactions_products.sort_values(by='average_rating', ascending=False).head(n)\n",
    "    return top_n_products\n"
   ],
   "outputs": [],
   "execution_count": 171
  },
  {
   "cell_type": "markdown",
   "metadata": {
    "id": "F8l6373PxhXi"
   },
   "source": [
    "### **Recommending top 5 products with 50 minimum interactions based on popularity**"
   ]
  },
  {
   "cell_type": "code",
   "metadata": {
    "id": "dBxdLiM_xhXi",
    "ExecuteTime": {
     "end_time": "2024-12-27T11:19:44.016668Z",
     "start_time": "2024-12-27T11:19:44.004181Z"
    }
   },
   "source": [
    "top_5_products_50 = get_top_n_products(df_final, 5,50)\n",
    "print(\"Top 5 products with 50 minimum interactions based on popularity:\\n\", top_5_products_50)\n"
   ],
   "outputs": [
    {
     "name": "stdout",
     "output_type": "stream",
     "text": [
      "Top 5 products with 50 minimum interactions based on popularity:\n",
      "             average_rating  rating_count\n",
      "prod_id                                 \n",
      "B001TH7GUU        4.871795            78\n",
      "B003ES5ZUU        4.864130           184\n",
      "B0019EHU8G        4.855556            90\n",
      "B006W8U2MU        4.824561            57\n",
      "B000QUUFRW        4.809524            84\n"
     ]
    }
   ],
   "execution_count": 172
  },
  {
   "cell_type": "markdown",
   "metadata": {
    "id": "l9_xW_UMxhXj"
   },
   "source": [
    "### **Recommending top 5 products with 100 minimum interactions based on popularity**"
   ]
  },
  {
   "cell_type": "code",
   "metadata": {
    "id": "dZgGZCUoxhXj",
    "ExecuteTime": {
     "end_time": "2024-12-27T11:19:44.030309Z",
     "start_time": "2024-12-27T11:19:44.017514Z"
    }
   },
   "source": [
    "top_5_products_100 = get_top_n_products(df_final, 5,100)\n",
    "print(\"Top 5 products with 100 minimum interactions based on popularity:\\n\",top_5_products_100)"
   ],
   "outputs": [
    {
     "name": "stdout",
     "output_type": "stream",
     "text": [
      "Top 5 products with 100 minimum interactions based on popularity:\n",
      "             average_rating  rating_count\n",
      "prod_id                                 \n",
      "B003ES5ZUU        4.864130           184\n",
      "B000N99BBC        4.772455           167\n",
      "B002WE6D44        4.770000           100\n",
      "B007WTAJTO        4.701220           164\n",
      "B002V88HFE        4.698113           106\n"
     ]
    }
   ],
   "execution_count": 173
  },
  {
   "cell_type": "markdown",
   "metadata": {
    "id": "BL-m68a15JtT",
    "outputId": "69132b0f-8d3f-4798-f6a0-249e17a3c822"
   },
   "source": "Recommending the **top 5** products using the popularity recommendation system. "
  },
  {
   "cell_type": "markdown",
   "metadata": {
    "id": "sJI5kiiGvOOK"
   },
   "source": [
    "## **Model 2: Collaborative Filtering Recommendation System**"
   ]
  },
  {
   "cell_type": "markdown",
   "metadata": {
    "id": "skzc0N1_nVNB"
   },
   "source": [
    "### **Building a baseline user-user similarity based recommendation system**"
   ]
  },
  {
   "cell_type": "markdown",
   "metadata": {
    "id": "d4Uo_MYMnVNB"
   },
   "source": [
    "- Below, we are building **similarity-based recommendation systems** using `cosine` similarity and using **KNN to find similar users** which are the nearest neighbor to the given user.  \n",
    "- We will be using a new library, called `surprise`, to build the remaining models. Let's first import the necessary classes and functions from this library."
   ]
  },
  {
   "metadata": {},
   "cell_type": "markdown",
   "source": ""
  },
  {
   "cell_type": "code",
   "metadata": {
    "id": "UJ1wEylUpexj",
    "ExecuteTime": {
     "end_time": "2024-12-27T11:19:44.032965Z",
     "start_time": "2024-12-27T11:19:44.031Z"
    }
   },
   "source": [
    "from surprise import accuracy\n",
    "from surprise.reader import Reader\n",
    "from surprise.dataset import Dataset\n",
    "from surprise.model_selection import GridSearchCV\n",
    "from surprise.model_selection import train_test_split\n",
    "from surprise.prediction_algorithms.knns import KNNBasic\n"
   ],
   "outputs": [],
   "execution_count": 174
  },
  {
   "cell_type": "markdown",
   "metadata": {
    "id": "54MqVAtDTsnl"
   },
   "source": ""
  },
  {
   "cell_type": "markdown",
   "metadata": {
    "id": "Qsxb3xhnTsnl"
   },
   "source": [
    "**Relevant item:** An item (product in this case) that is actually **rated higher than the threshold rating** is relevant, if the **actual rating is below the threshold then it is a non-relevant item**.  \n",
    "\n",
    "**Recommended item:** An item that's **predicted rating is higher than the threshold is a recommended item**, if the **predicted rating is below the threshold then that product will not be recommended to the user**.  \n"
   ]
  },
  {
   "cell_type": "markdown",
   "metadata": {
    "id": "moyLUHCuTsnl"
   },
   "source": ""
  },
  {
   "cell_type": "markdown",
   "metadata": {
    "id": "Yuvc2VaZTsnl"
   },
   "source": ""
  },
  {
   "cell_type": "markdown",
   "metadata": {
    "id": "8NLc36Y8Tsnm"
   },
   "source": ""
  },
  {
   "cell_type": "markdown",
   "metadata": {
    "id": "cqF8fRBqTsnm"
   },
   "source": ""
  },
  {
   "cell_type": "markdown",
   "metadata": {
    "id": "imMJNF0HTsnm"
   },
   "source": ""
  },
  {
   "cell_type": "markdown",
   "metadata": {
    "id": "jBW4BUhWTsnm"
   },
   "source": ""
  },
  {
   "cell_type": "markdown",
   "metadata": {
    "id": "QOBHKh0eTsnm"
   },
   "source": "**Creating a function to output precison, recall, and f-1 score of any given input of classification model**"
  },
  {
   "cell_type": "code",
   "metadata": {
    "id": "Rxn-GahOTsnm",
    "ExecuteTime": {
     "end_time": "2024-12-27T11:19:44.037172Z",
     "start_time": "2024-12-27T11:19:44.033604Z"
    }
   },
   "source": [
    "def precision_recall_at_k(model, k = 10, threshold = 3.5):\n",
    "    \"\"\"Return precision and recall at k metrics for each user\"\"\"\n",
    "\n",
    "    # First map the predictions to each user\n",
    "    user_est_true = defaultdict(list)\n",
    "    \n",
    "    # Making predictions on the test data\n",
    "    predictions = model.test(testset)\n",
    "    \n",
    "    for uid, _, true_r, est, _ in predictions:\n",
    "        user_est_true[uid].append((est, true_r))\n",
    "\n",
    "    precisions = dict()\n",
    "    recalls = dict()\n",
    "    for uid, user_ratings in user_est_true.items():\n",
    "\n",
    "        # Sort user ratings by estimated value\n",
    "        user_ratings.sort(key = lambda x: x[0], reverse = True)\n",
    "\n",
    "        # Number of relevant items\n",
    "        n_rel = sum((true_r >= threshold) for (_, true_r) in user_ratings)\n",
    "\n",
    "        # Number of recommended items in top k\n",
    "        n_rec_k = sum((est >= threshold) for (est, _) in user_ratings[:k])\n",
    "\n",
    "        # Number of relevant and recommended items in top k\n",
    "        n_rel_and_rec_k = sum(((true_r >= threshold) and (est >= threshold))\n",
    "                              for (est, true_r) in user_ratings[:k])\n",
    "\n",
    "        # Precision: Proportion of recommended items that are relevant\n",
    "        # When n_rec_k is 0, Precision is undefined. Therefore, we are setting Precision to 0 when n_rec_k is 0\n",
    "\n",
    "        precisions[uid] = n_rel_and_rec_k / n_rec_k if n_rec_k != 0 else 0\n",
    "\n",
    "        # Recall: Proportion of relevant items that are recommended\n",
    "        # When n_rel is 0, Recall is undefined. Therefore, we are setting Recall to 0 when n_rel is 0\n",
    "\n",
    "        recalls[uid] = n_rel_and_rec_k / n_rel if n_rel != 0 else 0\n",
    "    \n",
    "    # Mean of all the predicted precisions are calculated.\n",
    "    precision = round((sum(prec for prec in precisions.values()) / len(precisions)), 3)\n",
    "    \n",
    "    # Mean of all the predicted recalls are calculated.\n",
    "    recall = round((sum(rec for rec in recalls.values()) / len(recalls)), 3)\n",
    "    \n",
    "    accuracy.rmse(predictions)\n",
    "    \n",
    "    print('Precision: ', precision) # Command to print the overall precision\n",
    "    \n",
    "    print('Recall: ', recall) # Command to print the overall recall\n",
    "    \n",
    "    print('F_1 score: ', round((2*precision*recall)/(precision+recall), 3)) # Formula to compute the F-1 score"
   ],
   "outputs": [],
   "execution_count": 175
  },
  {
   "cell_type": "markdown",
   "metadata": {
    "id": "_ZmsamDVyek-"
   },
   "source": ""
  },
  {
   "cell_type": "markdown",
   "metadata": {
    "id": "8hxjJMTwnVNB"
   },
   "source": "Loading the **`rating` dataset** which is a **pandas DataFrame** into a **different format called `surprise.dataset.DatasetAutoFolds`**, which is required by suprise library"
  },
  {
   "cell_type": "code",
   "metadata": {
    "id": "rGfYDiOCpe4X",
    "ExecuteTime": {
     "end_time": "2024-12-27T11:19:44.100955Z",
     "start_time": "2024-12-27T11:19:44.037847Z"
    }
   },
   "source": [
    "# Instantiating Reader scale with expected rating scale\n",
    "reader = Reader(rating_scale=(1, 5))\n",
    "\n",
    "# Loading the rating dataset\n",
    "data = Dataset.load_from_df(df_final[['user_id', 'prod_id', 'rating']], reader)\n",
    "\n",
    "# Splitting the data into train and test datasets\n",
    "trainset, testset = train_test_split(data, test_size=0.30, random_state=42)\n"
   ],
   "outputs": [],
   "execution_count": 176
  },
  {
   "cell_type": "markdown",
   "metadata": {
    "id": "DmHTEt7TnVNC"
   },
   "source": "Now **ready to build the first baseline similarity-based recommendation system** using cosine similarity"
  },
  {
   "cell_type": "markdown",
   "metadata": {
    "id": "SVDfVHB4tQfU"
   },
   "source": [
    "### **Building the user-user Similarity-based Recommendation System**"
   ]
  },
  {
   "cell_type": "code",
   "metadata": {
    "id": "vO3FL7iape8A",
    "scrolled": false,
    "ExecuteTime": {
     "end_time": "2024-12-27T11:19:44.342210Z",
     "start_time": "2024-12-27T11:19:44.101813Z"
    }
   },
   "source": [
    "# Declaring similarity options\n",
    "sim_options = {'name': 'cosine',\n",
    "               'user_based': True}\n",
    "\n",
    "\n",
    "# Initialize KNNBasic model using sim_options declared, Verbose = False, and setting random_state = 1\n",
    "sim_user_user = KNNBasic(sim_options=sim_options, verbose=False, random_state=1)\n",
    "\n",
    "\n",
    "# Fit model on training data\n",
    "sim_user_user.fit(trainset)\n",
    "\n",
    "\n",
    "# Compute precision, recall, and f_1 score using the precision_recall_at_k function defined above\n",
    "precision_recall_at_k(sim_user_user)\n"
   ],
   "outputs": [
    {
     "name": "stdout",
     "output_type": "stream",
     "text": [
      "RMSE: 1.0250\n",
      "Precision:  0.86\n",
      "Recall:  0.783\n",
      "F_1 score:  0.82\n"
     ]
    }
   ],
   "execution_count": 177
  },
  {
   "cell_type": "markdown",
   "metadata": {
    "id": "nEuJK_A9Tsnn"
   },
   "source": "**Acheived F_1 score(harmonic mean of precision and recall) of 0.82**"
  },
  {
   "cell_type": "markdown",
   "metadata": {
    "id": "reFD0-nsnVNC"
   },
   "source": "Now **predicting rating for a user with `userId=A3LDPF5FMB782Z` and `productId=1400501466`**. This user has already interacted with or watched the product with productId '1400501466' and given a rating of 5."
  },
  {
   "cell_type": "code",
   "metadata": {
    "id": "Sxd23bZ9pe_x",
    "ExecuteTime": {
     "end_time": "2024-12-27T11:19:44.346172Z",
     "start_time": "2024-12-27T11:19:44.342988Z"
    }
   },
   "source": [
    "# Predicting rating for a random user with an already interacted product\n",
    "sim_user_user.predict('A3LDPF5FMB782Z', 1400501466, r_ui=5, verbose=True)"
   ],
   "outputs": [
    {
     "name": "stdout",
     "output_type": "stream",
     "text": [
      "user: A3LDPF5FMB782Z item: 1400501466 r_ui = 5.00   est = 4.29   {'was_impossible': True, 'reason': 'User and/or item is unknown.'}\n"
     ]
    },
    {
     "data": {
      "text/plain": [
       "Prediction(uid='A3LDPF5FMB782Z', iid=1400501466, r_ui=5, est=4.291403190162572, details={'was_impossible': True, 'reason': 'User and/or item is unknown.'})"
      ]
     },
     "execution_count": 178,
     "metadata": {},
     "output_type": "execute_result"
    }
   ],
   "execution_count": 178
  },
  {
   "cell_type": "markdown",
   "metadata": {
    "id": "ENJcqG_wemRH"
   },
   "source": "**Predicted rating is 4.29 while actual rating was 5 showing room for improvement**"
  },
  {
   "cell_type": "markdown",
   "metadata": {
    "id": "cj6ecbglTsno"
   },
   "source": "Making a **list of users who have not seen random product with product id \"1400501466\"**."
  },
  {
   "cell_type": "code",
   "metadata": {
    "id": "xCRBMD-RTsno",
    "ExecuteTime": {
     "end_time": "2024-12-27T11:19:44.390684Z",
     "start_time": "2024-12-27T11:19:44.347831Z"
    }
   },
   "source": [
    "# Finding unique user_id where prod_id is not equal to \"1400501466\"\n",
    "#Below is the list of users who have not seen the product with product id \"1400501466\".\n",
    "filtered_df = df[df['prod_id'] != \"1400501466\"]\n",
    "unique_user_ids = filtered_df['user_id'].unique()\n",
    "print(unique_user_ids)\n",
    "unique_user_ids_df = pd.DataFrame(unique_user_ids, columns=['User_ID'])\n"
   ],
   "outputs": [
    {
     "name": "stdout",
     "output_type": "stream",
     "text": [
      "['A3BY5KCNQZXV5U' 'AT09WGFUM934H' 'A32HSNCNPRUMTR' ... 'AT53ZTTO707MB'\n",
      " 'A1X3ESYZ79H59E' 'A328S9RN3U5M68']\n"
     ]
    }
   ],
   "execution_count": 179
  },
  {
   "cell_type": "markdown",
   "metadata": {
    "id": "KT42ecaSTsno"
   },
   "source": "Picking random **user \"A34BZM6S9L7QI4\" who has not seen the product with productId \"1400501466\" to test model**."
  },
  {
   "cell_type": "markdown",
   "metadata": {
    "id": "EXSgq8OEnVNE"
   },
   "source": "**Predicting rating for `userId=A34BZM6S9L7QI4` and `prod_id=1400501466`.** "
  },
  {
   "cell_type": "code",
   "metadata": {
    "id": "PbFcBj1PpfEV",
    "ExecuteTime": {
     "end_time": "2024-12-27T11:19:44.395124Z",
     "start_time": "2024-12-27T11:19:44.392302Z"
    }
   },
   "source": [
    "# Predicting rating for a sample user with a non interacted product\n",
    "sim_user_user.predict('A34BZM6S9L7QI4', 1400501466, verbose=True)\n",
    "#observation: "
   ],
   "outputs": [
    {
     "name": "stdout",
     "output_type": "stream",
     "text": [
      "user: A34BZM6S9L7QI4 item: 1400501466 r_ui = None   est = 4.29   {'was_impossible': True, 'reason': 'User and/or item is unknown.'}\n"
     ]
    },
    {
     "data": {
      "text/plain": [
       "Prediction(uid='A34BZM6S9L7QI4', iid=1400501466, r_ui=None, est=4.291403190162572, details={'was_impossible': True, 'reason': 'User and/or item is unknown.'})"
      ]
     },
     "execution_count": 180,
     "metadata": {},
     "output_type": "execute_result"
    }
   ],
   "execution_count": 180
  },
  {
   "cell_type": "markdown",
   "metadata": {
    "id": "02rwld8yemRI"
   },
   "source": "**Predicted rating was still 4.29, showing model is predicting same rating for users regardless of interaction with products, model has a lot of room for improvement**"
  },
  {
   "cell_type": "markdown",
   "metadata": {
    "id": "ejjof6csnVNF"
   },
   "source": "### **Improving the similarity-based recommendation system by tuning its hyperparameters**"
  },
  {
   "cell_type": "markdown",
   "metadata": {
    "id": "p2j4VvfQnVNF"
   },
   "source": [
    "Tuning hyperparameters of `K-Nearest-Neighbors` algorithm\n",
    "\n"
   ]
  },
  {
   "cell_type": "code",
   "metadata": {
    "id": "9LmPbSUSTsnp",
    "ExecuteTime": {
     "end_time": "2024-12-27T11:19:50.563259Z",
     "start_time": "2024-12-27T11:19:44.395673Z"
    }
   },
   "source": [
    "# Setting up parameter grid to tune hyperparameters\n",
    "param_grid = {'k': [10, 20, 30], 'min_k': [3, 6, 9],\n",
    "              'sim_options': {'name': [\"cosine\",'pearson',\"pearson_baseline\"],\n",
    "                              'user_based': [True], \"min_support\":[2,4]}\n",
    "              }\n",
    "\n",
    "# Performing 3-fold cross-validation to tune hyperparameters\n",
    "gs = GridSearchCV(KNNBasic, param_grid, measures=['rmse'], cv=3, n_jobs=-1)\n",
    "\n",
    "\n",
    "# Fitting data\n",
    "gs.fit(data)\n",
    "# Best RMSE score\n",
    "print(gs.best_score['rmse'])\n",
    "\n",
    "# Getting combination of parameters that gave best RMSE score\n",
    "print(gs.best_params['rmse'])\n"
   ],
   "outputs": [
    {
     "name": "stdout",
     "output_type": "stream",
     "text": [
      "Estimating biases using als...\n",
      "Computing the pearson_baseline similarity matrix...\n",
      "Done computing similarity matrix.\n",
      "Computing the pearson similarity matrix...\n",
      "Done computing similarity matrix.\n",
      "Computing the cosine similarity matrix...\n",
      "Done computing similarity matrix.\n",
      "Computing the pearson similarity matrix...\n",
      "Done computing similarity matrix.\n",
      "Computing the pearson similarity matrix...\n",
      "Done computing similarity matrix.\n",
      "Estimating biases using als...\n",
      "Computing the pearson_baseline similarity matrix...\n",
      "Done computing similarity matrix.\n",
      "Computing the cosine similarity matrix...\n",
      "Done computing similarity matrix.\n"
     ]
    },
    {
     "name": "stderr",
     "output_type": "stream",
     "text": [
      "/opt/anaconda3/lib/python3.12/site-packages/joblib/externals/loky/process_executor.py:752: UserWarning: A worker stopped while some jobs were given to the executor. This can be caused by a too short worker timeout or by a memory leak.\n",
      "  warnings.warn(\n"
     ]
    },
    {
     "name": "stdout",
     "output_type": "stream",
     "text": [
      "0.9794494047640508\n",
      "{'k': 30, 'min_k': 3, 'sim_options': {'name': 'cosine', 'user_based': True, 'min_support': 2}}\n"
     ]
    }
   ],
   "execution_count": 181
  },
  {
   "cell_type": "markdown",
   "metadata": {
    "id": "L2fHNvu7nVNF"
   },
   "source": "Getting optimal values for each of the hyperparameters"
  },
  {
   "cell_type": "markdown",
   "metadata": {
    "id": "NHWgxu_YnVNG"
   },
   "source": "Building **final model using tuned values of the hyperparameters**, received from **grid search cross-validation**."
  },
  {
   "cell_type": "code",
   "metadata": {
    "id": "PujRJA8X_JEJ",
    "ExecuteTime": {
     "end_time": "2024-12-27T11:19:50.821447Z",
     "start_time": "2024-12-27T11:19:50.564502Z"
    }
   },
   "source": [
    "# Using optimal similarity measure for user-user based collaborative filtering\n",
    "sim_options = {'name': 'pearson_baseline',\n",
    "               'user_based': True, \"min_support\":2}\n",
    "\n",
    "# Creating an instance of KNNBasic with optimal hyperparameter values\n",
    "sim_user_user_optimized = KNNBasic(sim_options=sim_options, k=20, min_k=3,\n",
    "                                   random_state=1, verbose=False)\n",
    "\n",
    "# Training algorithm on trainset\n",
    "sim_user_user_optimized.fit(trainset)\n",
    "\n",
    "# Computing precision and recall with k=10\n",
    "precision_recall_at_k(sim_user_user_optimized)"
   ],
   "outputs": [
    {
     "name": "stdout",
     "output_type": "stream",
     "text": [
      "RMSE: 0.9803\n",
      "Precision:  0.84\n",
      "Recall:  0.803\n",
      "F_1 score:  0.821\n"
     ]
    }
   ],
   "execution_count": 182
  },
  {
   "cell_type": "markdown",
   "metadata": {
    "id": "yHsWvFjKTsnp"
   },
   "source": "**Grid search revealed optimal hyperparameters made model with F_1 score of 0.815**"
  },
  {
   "cell_type": "markdown",
   "metadata": {
    "id": "YhcAXK0CnVNG"
   },
   "source": [
    "### \n",
    "**First, predicting rating for the user with `userId=\"A3LDPF5FMB782Z\"`, and `prod_id= \"1400501466\"` using the optimized model.**\n",
    "**Second, predicting rating for `userId=\"A34BZM6S9L7QI4\"` who has not interacted with `prod_id =\"1400501466\"` using the optimized model.**\n",
    "**Lastly, comparing the output with the output from the baseline model.**"
   ]
  },
  {
   "cell_type": "code",
   "metadata": {
    "id": "FgV63lHiq1TV",
    "ExecuteTime": {
     "end_time": "2024-12-27T11:19:50.825441Z",
     "start_time": "2024-12-27T11:19:50.822578Z"
    }
   },
   "source": [
    "# Using sim_user_user_optimized model to recommend for userId \"A3LDPF5FMB782Z\" and productId 1400501466\n",
    "sim_user_user_optimized.predict('A3LDPF5FMB782Z', 1400501466, r_ui=5, verbose=True)\n"
   ],
   "outputs": [
    {
     "name": "stdout",
     "output_type": "stream",
     "text": [
      "user: A3LDPF5FMB782Z item: 1400501466 r_ui = 5.00   est = 4.29   {'was_impossible': True, 'reason': 'User and/or item is unknown.'}\n"
     ]
    },
    {
     "data": {
      "text/plain": [
       "Prediction(uid='A3LDPF5FMB782Z', iid=1400501466, r_ui=5, est=4.291403190162572, details={'was_impossible': True, 'reason': 'User and/or item is unknown.'})"
      ]
     },
     "execution_count": 183,
     "metadata": {},
     "output_type": "execute_result"
    }
   ],
   "execution_count": 183
  },
  {
   "cell_type": "code",
   "metadata": {
    "id": "HXO2Ztjhq1bN",
    "ExecuteTime": {
     "end_time": "2024-12-27T11:19:50.832198Z",
     "start_time": "2024-12-27T11:19:50.829775Z"
    }
   },
   "source": [
    "# Using sim_user_user_optimized model to recommend for userId \"A34BZM6S9L7QI4\" and productId \"1400501466\"\n",
    "sim_user_user_optimized.predict('A34BZM6S9L7QI4',1400501466, verbose=True)\n"
   ],
   "outputs": [
    {
     "name": "stdout",
     "output_type": "stream",
     "text": [
      "user: A34BZM6S9L7QI4 item: 1400501466 r_ui = None   est = 4.29   {'was_impossible': True, 'reason': 'User and/or item is unknown.'}\n"
     ]
    },
    {
     "data": {
      "text/plain": [
       "Prediction(uid='A34BZM6S9L7QI4', iid=1400501466, r_ui=None, est=4.291403190162572, details={'was_impossible': True, 'reason': 'User and/or item is unknown.'})"
      ]
     },
     "execution_count": 184,
     "metadata": {},
     "output_type": "execute_result"
    }
   ],
   "execution_count": 184
  },
  {
   "cell_type": "markdown",
   "metadata": {
    "id": "s5i-OPprNF2e"
   },
   "source": "**Both Models predicted 4.29 rating for both, which is the overall mean rating. This shows that the class imbalance revealed during EDA is too greatly affecting both models to get accurate predictions**"
  },
  {
   "cell_type": "markdown",
   "metadata": {
    "id": "op_zwO_FnVNH"
   },
   "source": [
    "### **Identifying similar users to a given user (nearest neighbors)**"
   ]
  },
  {
   "cell_type": "markdown",
   "metadata": {
    "id": "o2QsfqhanVNH"
   },
   "source": "Finding **similar users to a given user** or its **nearest neighbors** based on K-Nearest-Neighbors algorithm. Finding the 5 most similar users to the first user in the list with internal id 0, based on the `msd` distance metric."
  },
  {
   "cell_type": "code",
   "metadata": {
    "id": "TbFle7cKmBJG",
    "ExecuteTime": {
     "end_time": "2024-12-27T11:19:50.835664Z",
     "start_time": "2024-12-27T11:19:50.833154Z"
    }
   },
   "source": [
    "# 0 is the inner id of the above user\n",
    "sim_user_user_optimized.get_neighbors(0,5)\n"
   ],
   "outputs": [
    {
     "data": {
      "text/plain": [
       "[29, 14, 408, 64, 411]"
      ]
     },
     "execution_count": 185,
     "metadata": {},
     "output_type": "execute_result"
    }
   ],
   "execution_count": 185
  },
  {
   "cell_type": "markdown",
   "metadata": {
    "id": "Z0NsrX_anVNH"
   },
   "source": "### **Implementing recommendation algorithm based on optimized K-Nearest-Neighbors model**"
  },
  {
   "cell_type": "markdown",
   "metadata": {
    "id": "U3ESobDynVNI"
   },
   "source": [
    "Creating a function where input parameters are:\n",
    "\n",
    "- data: a dataset\n",
    "- user_id: a user id **for which we want the recommendations**\n",
    "- top_n: the **number of products we want to recommend**\n",
    "- algo: the algorithm we want to use **for predicting the ratings**\n",
    "- The output of the function is a **set of top_n items** recommended for the given user_id based on the given algorithm"
   ]
  },
  {
   "cell_type": "code",
   "metadata": {
    "id": "vW9V1Tk65HlY",
    "ExecuteTime": {
     "end_time": "2024-12-27T11:19:50.838752Z",
     "start_time": "2024-12-27T11:19:50.836475Z"
    }
   },
   "source": [
    "def get_recommendations(data, user_id, top_n, algo):\n",
    "    \n",
    "    # Creating empty list to store the recommended product ids\n",
    "    recommendations = []\n",
    "    \n",
    "    # Creating user item interactions matrix \n",
    "    user_item_interactions_matrix = data.pivot(index = 'user_id', columns = 'prod_id', values = 'rating')\n",
    "    \n",
    "    # Extracting product ids which the user_id has not interacted with yet\n",
    "    non_interacted_products = user_item_interactions_matrix.loc[user_id][user_item_interactions_matrix.loc[user_id].isnull()].index.tolist()\n",
    "    \n",
    "    # Looping through each of the product ids which user_id has not interacted with yet\n",
    "    for item_id in non_interacted_products:\n",
    "        \n",
    "        # Predicting the ratings for those non interacted product ids for this user\n",
    "        est = algo.predict(user_id, item_id).est\n",
    "        \n",
    "        # Appending the predicted ratings\n",
    "        recommendations.append((item_id, est))\n",
    "\n",
    "    # Sorting the predicted ratings in descending order\n",
    "    recommendations.sort(key = lambda x: x[1], reverse = True)\n",
    "    \n",
    "    # Returning top n highest predicted rating products for this user\n",
    "    return recommendations[:top_n] "
   ],
   "outputs": [],
   "execution_count": 186
  },
  {
   "cell_type": "markdown",
   "metadata": {
    "id": "Oj_S7kh4nVNI"
   },
   "source": [
    "**Predicting top 5 products for userId = \"A3LDPF5FMB782Z\" with similarity based recommendation system**"
   ]
  },
  {
   "cell_type": "code",
   "metadata": {
    "id": "qWbR85mI5Hrk",
    "ExecuteTime": {
     "end_time": "2024-12-27T11:19:50.917439Z",
     "start_time": "2024-12-27T11:19:50.839294Z"
    }
   },
   "source": [
    "# Making top 5 recommendations for user_id \"A3LDPF5FMB782Z\" with a similarity-based recommendation engine\n",
    "recommendations = get_recommendations(df_final,'A3LDPF5FMB782Z', 5, sim_user_user)\n",
    "print(recommendations)"
   ],
   "outputs": [
    {
     "name": "stdout",
     "output_type": "stream",
     "text": [
      "[('B00001W0DI', 5), ('B00002EQCW', 5), ('B00003006R', 5), ('B00004W3ZQ', 5), ('B00004WCFT', 5)]\n"
     ]
    }
   ],
   "execution_count": 187
  },
  {
   "cell_type": "code",
   "metadata": {
    "id": "b5WfIX0Z6_q2",
    "ExecuteTime": {
     "end_time": "2024-12-27T11:19:50.920421Z",
     "start_time": "2024-12-27T11:19:50.918305Z"
    }
   },
   "source": [
    "# Building the dataframe for above recommendations with columns \"prod_id\" and \"predicted_ratings\"\n",
    "reccomend_df = pd.DataFrame(recommendations, columns=['prod_id', 'predicted_ratings'])\n"
   ],
   "outputs": [],
   "execution_count": 188
  },
  {
   "cell_type": "markdown",
   "metadata": {
    "id": "QgbzJKk7Tsnr"
   },
   "source": [
    "### **Item-Item Similarity-based Collaborative Filtering Recommendation System**"
   ]
  },
  {
   "cell_type": "markdown",
   "metadata": {
    "id": "qTJu_2hcTsnr"
   },
   "source": "Above are the results of **similarity-based collaborative filtering** where similarity is calculated **between users**. Now trying similarity-based collaborative filtering where similarity is seen **between items**. "
  },
  {
   "cell_type": "code",
   "metadata": {
    "id": "W5RMcdzjTsns",
    "scrolled": false,
    "ExecuteTime": {
     "end_time": "2024-12-27T11:19:52.024620Z",
     "start_time": "2024-12-27T11:19:50.921118Z"
    }
   },
   "source": [
    "# Declaring similarity options\n",
    "sim_options = {'name': 'pearson',\n",
    "               'user_based': False}\n",
    "# KNN algorithm used to find desired similar items. Using random_state=1\n",
    "sim_item_item = KNNBasic(sim_options=sim_options, random_state=1, verbose=False)\n",
    "\n",
    "# Training algorithm on the trainset, and predicting ratings for the test set\n",
    "sim_item_item.fit(trainset)\n",
    "\n",
    "# Computing precision, recall, and f_1 score with k = 10\n",
    "precision_recall_at_k(sim_item_item)\n",
    "#Observation: "
   ],
   "outputs": [
    {
     "name": "stdout",
     "output_type": "stream",
     "text": [
      "RMSE: 1.0377\n",
      "Precision:  0.833\n",
      "Recall:  0.789\n",
      "F_1 score:  0.81\n"
     ]
    }
   ],
   "execution_count": 189
  },
  {
   "cell_type": "markdown",
   "metadata": {
    "id": "ni9LoeUVTsns"
   },
   "source": "**When grouping users by their similar rating habits to predict ratings the F_1 score of the model is 0.81 performing similarly to previous models built**"
  },
  {
   "cell_type": "markdown",
   "metadata": {
    "id": "jFbcDQmxTsns"
   },
   "source": "**Predicting a rating for a random user with `userId = A3LDPF5FMB782Z` and `prod_Id = 1400501466`** where the user has already interacted or watched the product with productId \"1400501466\"."
  },
  {
   "cell_type": "code",
   "metadata": {
    "id": "JsF-aaWYTsns",
    "ExecuteTime": {
     "end_time": "2024-12-27T11:19:52.028647Z",
     "start_time": "2024-12-27T11:19:52.025790Z"
    }
   },
   "source": [
    "# Predicting rating for a sample user with an interacted product\n",
    "sim_item_item.predict('A3LDPF5FMB782Z', 1400501466, r_ui=5, verbose=True)"
   ],
   "outputs": [
    {
     "name": "stdout",
     "output_type": "stream",
     "text": [
      "user: A3LDPF5FMB782Z item: 1400501466 r_ui = 5.00   est = 4.29   {'was_impossible': True, 'reason': 'User and/or item is unknown.'}\n"
     ]
    },
    {
     "data": {
      "text/plain": [
       "Prediction(uid='A3LDPF5FMB782Z', iid=1400501466, r_ui=5, est=4.291403190162572, details={'was_impossible': True, 'reason': 'User and/or item is unknown.'})"
      ]
     },
     "execution_count": 190,
     "metadata": {},
     "output_type": "execute_result"
    }
   ],
   "execution_count": 190
  },
  {
   "cell_type": "markdown",
   "metadata": {
    "id": "2h0OyDMFTsns"
   },
   "source": "**Predicted rating was 4.29, actual rating was 5**"
  },
  {
   "cell_type": "markdown",
   "metadata": {
    "id": "BqKGZoAtTsns"
   },
   "source": "**Predicting rating for the `userId = A34BZM6S9L7QI4` and `prod_id = 1400501466`**."
  },
  {
   "cell_type": "code",
   "metadata": {
    "id": "5yILOxXRTsns",
    "ExecuteTime": {
     "end_time": "2024-12-27T11:19:52.031923Z",
     "start_time": "2024-12-27T11:19:52.029581Z"
    }
   },
   "source": [
    "# Predicting rating for a sample user with a non interacted product\n",
    "sim_item_item.predict('A34BZM6S9L7QI4', 1400501466, verbose=True)"
   ],
   "outputs": [
    {
     "name": "stdout",
     "output_type": "stream",
     "text": [
      "user: A34BZM6S9L7QI4 item: 1400501466 r_ui = None   est = 4.29   {'was_impossible': True, 'reason': 'User and/or item is unknown.'}\n"
     ]
    },
    {
     "data": {
      "text/plain": [
       "Prediction(uid='A34BZM6S9L7QI4', iid=1400501466, r_ui=None, est=4.291403190162572, details={'was_impossible': True, 'reason': 'User and/or item is unknown.'})"
      ]
     },
     "execution_count": 191,
     "metadata": {},
     "output_type": "execute_result"
    }
   ],
   "execution_count": 191
  },
  {
   "cell_type": "markdown",
   "metadata": {
    "id": "sDKaAveJTsns"
   },
   "source": "**Predicted rating is still 4.29, which is mean of all ratings**"
  },
  {
   "cell_type": "markdown",
   "metadata": {
    "id": "meSvpNLj_EjD"
   },
   "source": "### **Hyperparameter tuning the item-item similarity-based model**\n"
  },
  {
   "cell_type": "code",
   "metadata": {
    "id": "f5bcZ3HgTsnt",
    "ExecuteTime": {
     "end_time": "2024-12-27T11:20:22.567729Z",
     "start_time": "2024-12-27T11:19:52.032539Z"
    }
   },
   "source": [
    "# Setting up parameter grid to tune the hyperparameters\n",
    "param_grid = {'k': [10, 20, 30], 'min_k': [3, 6, 9],\n",
    "              'sim_options': {'name': ['msd',\"cosine\"],\n",
    "                              'user_based': [False], \"min_support\":[2,4]}\n",
    "              }\n",
    "\n",
    "\n",
    "\n",
    "# Performing 3-fold cross validation to tune the hyperparameters\n",
    "gs = GridSearchCV(KNNBasic, param_grid, measures=['rmse'], cv=3, n_jobs=-1)\n",
    "\n",
    "# Fitting the data\n",
    "gs.fit(data)\n",
    "\n",
    "# Finding best RMSE score\n",
    "print(gs.best_score['rmse'])\n",
    "\n",
    "# Finding combination of parameters that gave the best RMSE score\n",
    "print(gs.best_params['rmse'])\n"
   ],
   "outputs": [
    {
     "name": "stdout",
     "output_type": "stream",
     "text": [
      "Estimating biases using als...\n",
      "Computing the pearson_baseline similarity matrix...\n",
      "Done computing similarity matrix.\n",
      "Computing the cosine similarity matrix...\n",
      "Done computing similarity matrix.\n",
      "Computing the pearson similarity matrix...\n",
      "Done computing similarity matrix.\n",
      "Computing the cosine similarity matrix...\n",
      "Done computing similarity matrix.\n",
      "Computing the pearson similarity matrix...\n",
      "Done computing similarity matrix.\n",
      "Computing the cosine similarity matrix...\n",
      "Done computing similarity matrix.\n",
      "Computing the cosine similarity matrix...\n",
      "Done computing similarity matrix.\n",
      "Computing the pearson similarity matrix...\n",
      "Done computing similarity matrix.\n",
      "Computing the cosine similarity matrix...\n",
      "Done computing similarity matrix.\n",
      "Computing the cosine similarity matrix...\n",
      "Done computing similarity matrix.\n",
      "Computing the pearson similarity matrix...\n",
      "Done computing similarity matrix.\n",
      "Computing the pearson similarity matrix...\n",
      "Done computing similarity matrix.\n",
      "Estimating biases using als...\n",
      "Computing the pearson_baseline similarity matrix...\n",
      "Done computing similarity matrix.\n",
      "Computing the msd similarity matrix...\n",
      "Done computing similarity matrix.\n"
     ]
    },
    {
     "name": "stderr",
     "output_type": "stream",
     "text": [
      "/opt/anaconda3/lib/python3.12/site-packages/joblib/externals/loky/process_executor.py:752: UserWarning: A worker stopped while some jobs were given to the executor. This can be caused by a too short worker timeout or by a memory leak.\n",
      "  warnings.warn(\n"
     ]
    },
    {
     "name": "stdout",
     "output_type": "stream",
     "text": [
      "Computing the cosine similarity matrix...\n",
      "Done computing similarity matrix.\n",
      "Computing the pearson similarity matrix...\n",
      "Done computing similarity matrix.\n",
      "Estimating biases using als...\n",
      "Computing the pearson_baseline similarity matrix...\n",
      "Done computing similarity matrix.\n",
      "Computing the pearson similarity matrix...\n",
      "Done computing similarity matrix.\n",
      "Estimating biases using als...\n",
      "Computing the pearson_baseline similarity matrix...\n",
      "Done computing similarity matrix.\n",
      "Computing the pearson similarity matrix...\n",
      "Done computing similarity matrix.\n",
      "Computing the cosine similarity matrix...\n",
      "Done computing similarity matrix.\n",
      "Computing the pearson similarity matrix...\n",
      "Done computing similarity matrix.\n",
      "Computing the cosine similarity matrix...\n",
      "Done computing similarity matrix.\n",
      "Computing the pearson similarity matrix...\n",
      "Done computing similarity matrix.\n",
      "Estimating biases using als...\n",
      "Computing the pearson_baseline similarity matrix...\n",
      "Done computing similarity matrix.\n",
      "Computing the pearson similarity matrix...\n",
      "Done computing similarity matrix.\n",
      "Estimating biases using als...\n",
      "Computing the pearson_baseline similarity matrix...\n",
      "Done computing similarity matrix.\n",
      "Computing the msd similarity matrix...\n",
      "Done computing similarity matrix.\n",
      "Computing the cosine similarity matrix...\n",
      "Done computing similarity matrix.\n",
      "Computing the cosine similarity matrix...\n",
      "Done computing similarity matrix.\n",
      "Computing the pearson similarity matrix...\n",
      "Done computing similarity matrix.\n",
      "Computing the cosine similarity matrix...\n",
      "Done computing similarity matrix.\n",
      "Computing the pearson similarity matrix...\n",
      "Done computing similarity matrix.\n",
      "Computing the cosine similarity matrix...\n",
      "Done computing similarity matrix.\n",
      "Estimating biases using als...\n",
      "Computing the pearson_baseline similarity matrix...\n",
      "Done computing similarity matrix.\n",
      "Computing the cosine similarity matrix...\n",
      "Done computing similarity matrix.\n",
      "Computing the pearson similarity matrix...\n",
      "Done computing similarity matrix.\n",
      "Estimating biases using als...\n",
      "Computing the pearson_baseline similarity matrix...\n",
      "Done computing similarity matrix.\n",
      "Computing the pearson similarity matrix...\n",
      "Done computing similarity matrix.\n",
      "Estimating biases using als...\n",
      "Computing the pearson_baseline similarity matrix...\n",
      "Done computing similarity matrix.\n",
      "Computing the pearson similarity matrix...\n",
      "Done computing similarity matrix.\n",
      "Estimating biases using als...\n",
      "Computing the pearson_baseline similarity matrix...\n",
      "Done computing similarity matrix.\n",
      "Computing the cosine similarity matrix...\n",
      "Done computing similarity matrix.\n",
      "Estimating biases using als...\n",
      "Computing the pearson_baseline similarity matrix...\n",
      "Done computing similarity matrix.\n",
      "Computing the msd similarity matrix...\n",
      "Done computing similarity matrix.\n",
      "Computing the cosine similarity matrix...\n",
      "Done computing similarity matrix.\n",
      "Computing the pearson similarity matrix...\n",
      "Done computing similarity matrix.\n",
      "Estimating biases using als...\n",
      "Computing the pearson_baseline similarity matrix...\n",
      "Done computing similarity matrix.\n",
      "Computing the pearson similarity matrix...\n",
      "Done computing similarity matrix.\n",
      "Estimating biases using als...\n",
      "Computing the pearson_baseline similarity matrix...\n",
      "Done computing similarity matrix.\n",
      "Estimating biases using als...\n",
      "Computing the pearson_baseline similarity matrix...\n",
      "Done computing similarity matrix.\n",
      "Computing the pearson similarity matrix...\n",
      "Done computing similarity matrix.\n",
      "Estimating biases using als...\n",
      "Computing the pearson_baseline similarity matrix...\n",
      "Done computing similarity matrix.\n",
      "Computing the cosine similarity matrix...\n",
      "Done computing similarity matrix.\n",
      "Computing the msd similarity matrix...\n",
      "Done computing similarity matrix.\n",
      "Computing the cosine similarity matrix...\n",
      "Done computing similarity matrix.\n",
      "Computing the pearson similarity matrix...\n",
      "Done computing similarity matrix.\n",
      "Computing the cosine similarity matrix...\n",
      "Done computing similarity matrix.\n",
      "Estimating biases using als...\n",
      "Computing the pearson_baseline similarity matrix...\n",
      "Done computing similarity matrix.\n",
      "Computing the cosine similarity matrix...\n",
      "Done computing similarity matrix.\n",
      "Estimating biases using als...\n",
      "Computing the pearson_baseline similarity matrix...\n",
      "Done computing similarity matrix.\n",
      "Computing the cosine similarity matrix...\n",
      "Done computing similarity matrix.\n",
      "Computing the pearson similarity matrix...\n",
      "Done computing similarity matrix.\n",
      "Estimating biases using als...\n",
      "Computing the pearson_baseline similarity matrix...\n",
      "Done computing similarity matrix.\n",
      "Computing the pearson similarity matrix...\n",
      "Done computing similarity matrix.\n",
      "Estimating biases using als...\n",
      "Computing the pearson_baseline similarity matrix...\n",
      "Done computing similarity matrix.\n",
      "Computing the cosine similarity matrix...\n",
      "Done computing similarity matrix.\n",
      "Computing the cosine similarity matrix...\n",
      "Done computing similarity matrix.\n",
      "Computing the pearson similarity matrix...\n",
      "Done computing similarity matrix.\n",
      "Computing the msd similarity matrix...\n",
      "Done computing similarity matrix.\n",
      "Computing the cosine similarity matrix...\n",
      "Done computing similarity matrix.\n",
      "Estimating biases using als...\n",
      "Computing the pearson_baseline similarity matrix...\n",
      "Done computing similarity matrix.\n",
      "Computing the cosine similarity matrix...\n",
      "Done computing similarity matrix.\n",
      "Computing the pearson similarity matrix...\n",
      "Done computing similarity matrix.\n",
      "Computing the pearson similarity matrix...\n",
      "Done computing similarity matrix.\n",
      "Estimating biases using als...\n",
      "Computing the pearson_baseline similarity matrix...\n",
      "Done computing similarity matrix.\n",
      "Computing the pearson similarity matrix...\n",
      "Done computing similarity matrix.\n",
      "Computing the cosine similarity matrix...\n",
      "Done computing similarity matrix.\n",
      "Computing the cosine similarity matrix...\n",
      "Done computing similarity matrix.\n",
      "Computing the pearson similarity matrix...\n",
      "Done computing similarity matrix.\n",
      "Computing the cosine similarity matrix...\n",
      "Done computing similarity matrix.\n",
      "Estimating biases using als...\n",
      "Computing the pearson_baseline similarity matrix...\n",
      "Done computing similarity matrix.\n",
      "Computing the cosine similarity matrix...\n",
      "Done computing similarity matrix.\n",
      "Estimating biases using als...\n",
      "Computing the pearson_baseline similarity matrix...\n",
      "Done computing similarity matrix.\n",
      "Computing the cosine similarity matrix...\n",
      "Done computing similarity matrix.\n",
      "Computing the cosine similarity matrix...\n",
      "Done computing similarity matrix.\n",
      "Estimating biases using als...\n",
      "Computing the pearson_baseline similarity matrix...\n",
      "Done computing similarity matrix.\n",
      "Computing the cosine similarity matrix...\n",
      "Done computing similarity matrix.\n",
      "Estimating biases using als...\n",
      "Computing the pearson_baseline similarity matrix...\n",
      "Done computing similarity matrix.\n",
      "Computing the pearson similarity matrix...\n",
      "Done computing similarity matrix.\n",
      "Estimating biases using als...\n",
      "Computing the pearson_baseline similarity matrix...\n",
      "Done computing similarity matrix.\n",
      "Computing the pearson similarity matrix...\n",
      "Done computing similarity matrix.\n",
      "Estimating biases using als...\n",
      "Computing the pearson_baseline similarity matrix...\n",
      "Done computing similarity matrix.\n",
      "Computing the pearson similarity matrix...\n",
      "Done computing similarity matrix.\n",
      "Computing the cosine similarity matrix...\n",
      "Done computing similarity matrix.\n",
      "Estimating biases using als...\n",
      "Computing the pearson_baseline similarity matrix...\n",
      "Done computing similarity matrix.\n",
      "Computing the cosine similarity matrix...\n",
      "Done computing similarity matrix.\n",
      "Computing the cosine similarity matrix...\n",
      "Done computing similarity matrix.\n",
      "Computing the pearson similarity matrix...\n",
      "Done computing similarity matrix.\n",
      "Estimating biases using als...\n",
      "Computing the pearson_baseline similarity matrix...\n",
      "Done computing similarity matrix.\n",
      "Computing the cosine similarity matrix...\n",
      "Done computing similarity matrix.\n",
      "Computing the msd similarity matrix...\n",
      "Done computing similarity matrix.\n",
      "Computing the cosine similarity matrix...\n",
      "Done computing similarity matrix.\n",
      "Computing the msd similarity matrix...\n",
      "Done computing similarity matrix.\n",
      "Computing the msd similarity matrix...\n",
      "Done computing similarity matrix.\n",
      "Computing the cosine similarity matrix...\n",
      "Done computing similarity matrix.\n",
      "Computing the cosine similarity matrix...\n",
      "Done computing similarity matrix.\n",
      "Computing the cosine similarity matrix...\n",
      "Done computing similarity matrix.\n",
      "Computing the cosine similarity matrix...\n",
      "Done computing similarity matrix.\n",
      "Computing the cosine similarity matrix...\n",
      "Done computing similarity matrix.\n",
      "Computing the msd similarity matrix...\n",
      "Done computing similarity matrix.\n",
      "Computing the cosine similarity matrix...\n",
      "Done computing similarity matrix.\n",
      "Computing the cosine similarity matrix...\n",
      "Done computing similarity matrix.\n",
      "Computing the msd similarity matrix...\n",
      "Done computing similarity matrix.\n",
      "Computing the cosine similarity matrix...\n",
      "Done computing similarity matrix.\n",
      "Computing the msd similarity matrix...\n",
      "Done computing similarity matrix.\n",
      "Computing the cosine similarity matrix...\n",
      "Done computing similarity matrix.\n",
      "Computing the msd similarity matrix...\n",
      "Done computing similarity matrix.\n",
      "Computing the msd similarity matrix...\n",
      "Done computing similarity matrix.\n",
      "Computing the cosine similarity matrix...\n",
      "Done computing similarity matrix.\n",
      "Computing the cosine similarity matrix...\n",
      "Done computing similarity matrix.\n",
      "Computing the pearson similarity matrix...\n",
      "Done computing similarity matrix.\n",
      "Computing the cosine similarity matrix...\n",
      "Done computing similarity matrix.\n",
      "Estimating biases using als...\n",
      "Computing the pearson_baseline similarity matrix...\n",
      "Done computing similarity matrix.\n",
      "Computing the pearson similarity matrix...\n",
      "Done computing similarity matrix.\n",
      "Estimating biases using als...\n",
      "Computing the pearson_baseline similarity matrix...\n",
      "Done computing similarity matrix.\n",
      "Computing the pearson similarity matrix...\n",
      "Done computing similarity matrix.\n",
      "Estimating biases using als...\n",
      "Computing the pearson_baseline similarity matrix...\n",
      "Done computing similarity matrix.\n",
      "Computing the cosine similarity matrix...\n",
      "Done computing similarity matrix.\n",
      "Estimating biases using als...\n",
      "Computing the pearson_baseline similarity matrix...\n",
      "Done computing similarity matrix.\n",
      "Computing the msd similarity matrix...\n",
      "Done computing similarity matrix.\n",
      "Computing the cosine similarity matrix...\n",
      "Done computing similarity matrix.\n",
      "Computing the msd similarity matrix...\n",
      "Done computing similarity matrix.\n",
      "Computing the cosine similarity matrix...\n",
      "Done computing similarity matrix.\n",
      "Computing the msd similarity matrix...\n",
      "Done computing similarity matrix.\n",
      "Computing the cosine similarity matrix...\n",
      "Done computing similarity matrix.\n",
      "Computing the msd similarity matrix...\n",
      "Done computing similarity matrix.\n",
      "Computing the cosine similarity matrix...\n",
      "Done computing similarity matrix.\n",
      "Computing the msd similarity matrix...\n",
      "Done computing similarity matrix.\n",
      "Computing the msd similarity matrix...\n",
      "Done computing similarity matrix.\n",
      "Computing the msd similarity matrix...\n",
      "Done computing similarity matrix.\n",
      "Computing the msd similarity matrix...\n",
      "Done computing similarity matrix.\n",
      "Computing the cosine similarity matrix...\n",
      "Done computing similarity matrix.\n",
      "Computing the msd similarity matrix...\n",
      "Done computing similarity matrix.\n",
      "Computing the msd similarity matrix...\n",
      "Done computing similarity matrix.\n",
      "Computing the msd similarity matrix...\n",
      "Done computing similarity matrix.\n",
      "Computing the cosine similarity matrix...\n",
      "Done computing similarity matrix.\n",
      "Computing the msd similarity matrix...\n",
      "Done computing similarity matrix.\n",
      "Computing the msd similarity matrix...\n",
      "Done computing similarity matrix.\n",
      "Computing the cosine similarity matrix...\n",
      "Done computing similarity matrix.\n",
      "Computing the msd similarity matrix...\n",
      "Done computing similarity matrix.\n",
      "Computing the cosine similarity matrix...\n",
      "Done computing similarity matrix.\n",
      "Computing the cosine similarity matrix...\n",
      "Done computing similarity matrix.\n",
      "Computing the msd similarity matrix...\n",
      "Done computing similarity matrix.\n",
      "Computing the msd similarity matrix...\n",
      "Done computing similarity matrix.\n",
      "Computing the cosine similarity matrix...\n",
      "Done computing similarity matrix.\n",
      "Computing the cosine similarity matrix...\n",
      "Done computing similarity matrix.\n",
      "Computing the cosine similarity matrix...\n",
      "Done computing similarity matrix.\n",
      "0.9838158062641836\n",
      "{'k': 20, 'min_k': 6, 'sim_options': {'name': 'msd', 'user_based': False, 'min_support': 2}}\n"
     ]
    }
   ],
   "execution_count": 192
  },
  {
   "cell_type": "markdown",
   "metadata": {
    "id": "1psOlx6zTsnt"
   },
   "source": ""
  },
  {
   "cell_type": "markdown",
   "metadata": {
    "id": "JrSTaQemTsnt"
   },
   "source": "Building **final model** using **tuned values of the hyperparameters** from grid search cross-validation."
  },
  {
   "cell_type": "markdown",
   "metadata": {
    "id": "kOS9Dwnd_LN6"
   },
   "source": "### **Using the best parameters from GridSearchCV to build the optimized item-item similarity-based model and comparing the performance of the optimized model with the baseline model.**"
  },
  {
   "cell_type": "code",
   "metadata": {
    "id": "dSeiM1qeTsnt",
    "ExecuteTime": {
     "end_time": "2024-12-27T11:20:23.189998Z",
     "start_time": "2024-12-27T11:20:22.569430Z"
    }
   },
   "source": [
    "# Using the optimal similarity measure for item-item based collaborative filtering\n",
    "sim_options = {'name': 'msd',\n",
    "               'user_based': False, \"min_support\":2}\n",
    "\n",
    "# Creating an instance of KNNBasic with optimal hyperparameter values\n",
    "sim_item_item_optimized = KNNBasic(sim_options=sim_options, k=30, min_k=6, random_state=1, verbose=False)\n",
    "\n",
    "# Training the algorithm on the trainset\n",
    "sim_item_item_optimized.fit(trainset)\n",
    "\n",
    "# Computing precision, recall, f1_score, and RMSE\n",
    "precision_recall_at_k(sim_item_item_optimized)\n",
    "#observation: After grid search and using optimal parameters item-item similarity\n",
    "#model had F-1 score of 0.815 showing predicting rating of item by using items similar to item produces ok model"
   ],
   "outputs": [
    {
     "name": "stdout",
     "output_type": "stream",
     "text": [
      "RMSE: 0.9783\n",
      "Precision:  0.833\n",
      "Recall:  0.799\n",
      "F_1 score:  0.816\n"
     ]
    }
   ],
   "execution_count": 193
  },
  {
   "cell_type": "markdown",
   "metadata": {
    "id": "ZCXKnMI8Tsnt"
   },
   "source": "**After grid search and using optimal parameters item-item similarity model had F-1 score of 0.816 showing predicting rating of item, by using items that are similar to item produces similar model to previously created models**"
  },
  {
   "cell_type": "markdown",
   "metadata": {
    "id": "Sbcj_H94Tsnt"
   },
   "source": [
    "### **Steps:**\n",
    "- **1. Predicting rating for user with `userId=\"A3LDPF5FMB782Z\"`, and `prod_id= \"1400501466\"` using optimized model**\n",
    "- **2. Predicting rating for `userId=\"A34BZM6S9L7QI4\"` who has not interacted with `prod_id =\"1400501466\"`, using the optimized model**\n",
    "- **3. Comparing the output with the output from baseline model**"
   ]
  },
  {
   "cell_type": "code",
   "metadata": {
    "id": "gIBRRvdoTsnt",
    "ExecuteTime": {
     "end_time": "2024-12-27T11:20:23.194024Z",
     "start_time": "2024-12-27T11:20:23.191103Z"
    }
   },
   "source": [
    "# Using sim_item_item_optimized model to recommend for userId \"A3LDPF5FMB782Z\" and productId \"1400501466\"\n",
    "sim_item_item_optimized.predict('A3LDPF5FMB782Z', 1400501466, r_ui=5, verbose=False)\n"
   ],
   "outputs": [
    {
     "data": {
      "text/plain": [
       "Prediction(uid='A3LDPF5FMB782Z', iid=1400501466, r_ui=5, est=4.291403190162572, details={'was_impossible': True, 'reason': 'User and/or item is unknown.'})"
      ]
     },
     "execution_count": 194,
     "metadata": {},
     "output_type": "execute_result"
    }
   ],
   "execution_count": 194
  },
  {
   "cell_type": "code",
   "metadata": {
    "ExecuteTime": {
     "end_time": "2024-12-27T11:20:23.197487Z",
     "start_time": "2024-12-27T11:20:23.194988Z"
    }
   },
   "source": [
    "# Using sim_item_item_optimized model to recommend for userId \"A34BZM6S9L7QI4\" and productId \"1400501466\"\n",
    "sim_item_item_optimized.predict('A34BZM6S9L7QI4', 1400501466, verbose=False)\n"
   ],
   "outputs": [
    {
     "data": {
      "text/plain": [
       "Prediction(uid='A34BZM6S9L7QI4', iid=1400501466, r_ui=None, est=4.291403190162572, details={'was_impossible': True, 'reason': 'User and/or item is unknown.'})"
      ]
     },
     "execution_count": 195,
     "metadata": {},
     "output_type": "execute_result"
    }
   ],
   "execution_count": 195
  },
  {
   "cell_type": "markdown",
   "metadata": {},
   "source": "**Both models still predicting same rating for item, 4.29 which is the mean of all ratings**"
  },
  {
   "cell_type": "markdown",
   "metadata": {
    "id": "MDlNB7tnTsnu"
   },
   "source": "### **Identifying similar items to a given item using K-Nearest-Neighbors**"
  },
  {
   "cell_type": "markdown",
   "metadata": {
    "id": "RLdDiFA6Tsnu"
   },
   "source": "Finding **similar items** to a given item or its nearest neighbors using **K-Nearest-Neighbors**. Finding the 5 most similar items to the item with internal id 0 based on the `msd` distance metric."
  },
  {
   "cell_type": "code",
   "metadata": {
    "id": "ZRJS4oDFTsnu",
    "ExecuteTime": {
     "end_time": "2024-12-27T11:20:23.202017Z",
     "start_time": "2024-12-27T11:20:23.198192Z"
    }
   },
   "source": [
    "sim_item_item_optimized.get_neighbors(0, k=5)\n",
    "\n"
   ],
   "outputs": [
    {
     "data": {
      "text/plain": [
       "[315, 1282, 534, 189, 405]"
      ]
     },
     "execution_count": 196,
     "metadata": {},
     "output_type": "execute_result"
    }
   ],
   "execution_count": 196
  },
  {
   "cell_type": "markdown",
   "metadata": {},
   "source": "**Predicting top 5 products for userId = \"A1A5KUIIIHFF4U\" with similarity based recommendation system.**\n"
  },
  {
   "cell_type": "code",
   "metadata": {
    "id": "rzoEbuZFTsnu",
    "ExecuteTime": {
     "end_time": "2024-12-27T11:20:23.305612Z",
     "start_time": "2024-12-27T11:20:23.202829Z"
    }
   },
   "source": [
    "# Making top 5 recommendations for user_id A1A5KUIIIHFF4U with similarity-based recommendation engine\n",
    "recommendations = get_recommendations(df_final, 'A1A5KUIIIHFF4U', 5, sim_item_item)\n"
   ],
   "outputs": [],
   "execution_count": 197
  },
  {
   "cell_type": "code",
   "metadata": {
    "id": "_kXVTiysTsnv",
    "ExecuteTime": {
     "end_time": "2024-12-27T11:20:23.310258Z",
     "start_time": "2024-12-27T11:20:23.306547Z"
    }
   },
   "source": [
    "# Building the dataframe for above recommendations with columns \"prod_id\" and \"predicted_ratings\"\n",
    "recc_df = pd.DataFrame(recommendations, columns=['prod_id', 'predicted_ratings'])\n",
    "print(recc_df)"
   ],
   "outputs": [
    {
     "name": "stdout",
     "output_type": "stream",
     "text": [
      "      prod_id  predicted_ratings\n",
      "0  1400532655           4.291403\n",
      "1  1400599997           4.291403\n",
      "2  9983891212           4.291403\n",
      "3  B00000DM9W           4.291403\n",
      "4  B00000J1V5           4.291403\n"
     ]
    }
   ],
   "execution_count": 198
  },
  {
   "cell_type": "markdown",
   "metadata": {
    "id": "DHzmYvs0Tsnv"
   },
   "source": "**Similarity-based collaborative filtering algorithms all performed similarly**, now trying **model-based collaborative filtering algorithms**."
  },
  {
   "cell_type": "markdown",
   "metadata": {
    "id": "rKgJpSA9vOOL"
   },
   "source": [
    "### **Model 3: Model-Based Collaborative Filtering - Matrix Factorization**"
   ]
  },
  {
   "cell_type": "markdown",
   "metadata": {
    "id": "YF6ZGyqhCAob"
   },
   "source": [
    "Model-based Collaborative Filtering is a **personalized recommendation system**, the recommendations are based on the past behavior of the user and it is not dependent on any additional information. We use **latent features** to find recommendations for each user."
   ]
  },
  {
   "cell_type": "markdown",
   "metadata": {
    "id": "n4Otha8ovOOL"
   },
   "source": [
    "### Singular Value Decomposition (SVD)"
   ]
  },
  {
   "cell_type": "markdown",
   "metadata": {
    "id": "3sGl3QkLvOOL"
   },
   "source": "SVD is used to **compute the latent features** from the **user-item matrix**"
  },
  {
   "cell_type": "code",
   "metadata": {
    "id": "07-2PT5Ssjqm",
    "ExecuteTime": {
     "end_time": "2024-12-27T11:20:23.641984Z",
     "start_time": "2024-12-27T11:20:23.310993Z"
    }
   },
   "source": [
    "# Using SVD matrix factorization. Using random_state = 1\n",
    "svd = SVD(random_state=1)\n",
    "\n",
    "# Training algorithm on the trainset\n",
    "svd.fit(trainset)\n",
    "\n",
    "# Using function precision_recall_at_k to compute precision, recall, F1-Score, and RMSE\n",
    "precision_recall_at_k(svd)\n"
   ],
   "outputs": [
    {
     "name": "stdout",
     "output_type": "stream",
     "text": [
      "RMSE: 0.8989\n",
      "Precision:  0.86\n",
      "Recall:  0.797\n",
      "F_1 score:  0.827\n"
     ]
    }
   ],
   "execution_count": 199
  },
  {
   "cell_type": "markdown",
   "metadata": {
    "id": "BQ6fTuCDnVNL"
   },
   "source": "**SVD model has a F-1 score of 0.827 highest seen so far in all models**"
  },
  {
   "cell_type": "markdown",
   "metadata": {},
   "source": "**Predicting rating for a random user with `userId = \"A3LDPF5FMB782Z\"` and `prod_id = \"1400501466`.**"
  },
  {
   "cell_type": "code",
   "metadata": {
    "id": "yWIhfdxXsjqm",
    "ExecuteTime": {
     "end_time": "2024-12-27T11:20:23.645564Z",
     "start_time": "2024-12-27T11:20:23.642944Z"
    }
   },
   "source": [
    "# Making prediction\n",
    "svd.predict('A3LDPF5FMB782Z', 1400501466, r_ui=5, verbose=True)"
   ],
   "outputs": [
    {
     "name": "stdout",
     "output_type": "stream",
     "text": [
      "user: A3LDPF5FMB782Z item: 1400501466 r_ui = 5.00   est = 4.27   {'was_impossible': False}\n"
     ]
    },
    {
     "data": {
      "text/plain": [
       "Prediction(uid='A3LDPF5FMB782Z', iid=1400501466, r_ui=5, est=4.270673152607236, details={'was_impossible': False})"
      ]
     },
     "execution_count": 200,
     "metadata": {},
     "output_type": "execute_result"
    }
   ],
   "execution_count": 200
  },
  {
   "cell_type": "markdown",
   "metadata": {
    "id": "oIjzqDY5nVNM"
   },
   "source": "**Predicted rating was 4.27 while actual rating was 5, however SVD model is not predicting 4.29 the mean of all ratings like previous models **"
  },
  {
   "cell_type": "markdown",
   "metadata": {
    "id": "I1aYxVeMnVNM"
   },
   "source": "**Predicting rating for the random user `userId = \"A34BZM6S9L7QI4\"` and `productId = \"1400501466\"`.**"
  },
  {
   "cell_type": "code",
   "metadata": {
    "id": "APm-uMSvcAMf",
    "ExecuteTime": {
     "end_time": "2024-12-27T11:20:23.648818Z",
     "start_time": "2024-12-27T11:20:23.646328Z"
    }
   },
   "source": [
    "# Making prediction\n",
    "svd.predict('A34BZM6S9L7QI4', 1400501466, verbose=True)"
   ],
   "outputs": [
    {
     "name": "stdout",
     "output_type": "stream",
     "text": [
      "user: A34BZM6S9L7QI4 item: 1400501466 r_ui = None   est = 4.54   {'was_impossible': False}\n"
     ]
    },
    {
     "data": {
      "text/plain": [
       "Prediction(uid='A34BZM6S9L7QI4', iid=1400501466, r_ui=None, est=4.538853147066661, details={'was_impossible': False})"
      ]
     },
     "execution_count": 201,
     "metadata": {},
     "output_type": "execute_result"
    }
   ],
   "execution_count": 201
  },
  {
   "cell_type": "markdown",
   "metadata": {
    "id": "NEL6dy3wnVNM"
   },
   "source": "**Predicted rating for a product that the user had not interacted with was 4.54**"
  },
  {
   "cell_type": "markdown",
   "metadata": {
    "id": "x13Eb9Owvpcw"
   },
   "source": [
    "### **Improving Matrix Factorization based recommendation system by tuning its hyperparameters**"
   ]
  },
  {
   "cell_type": "markdown",
   "metadata": {
    "id": "iQcDPhhcnVNN"
   },
   "source": [
    "Tuning three hyperparameters:\n",
    "- **n_epochs**: The number of iterations of the SVD algorithm\n",
    "- **lr_all**: The learning rate for all parameters\n",
    "- **reg_all**: The regularization term for all parameters"
   ]
  },
  {
   "cell_type": "code",
   "metadata": {
    "id": "4bM81V_hvtwv",
    "ExecuteTime": {
     "end_time": "2024-12-27T11:20:27.609261Z",
     "start_time": "2024-12-27T11:20:23.649501Z"
    }
   },
   "source": [
    "# Setting the parameter space to tune\n",
    "param_grid = {'n_epochs': [10, 20, 30], 'lr_all': [0.001, 0.005, 0.01],\n",
    "              'reg_all': [0.2, 0.4, 0.6]}\n",
    "\n",
    "# Performing 3-fold gridsearch cross-validation\n",
    "gs_ = GridSearchCV(SVD, param_grid, measures=['rmse'], cv=3, n_jobs=-1)\n",
    "\n",
    "# Fitting data\n",
    "gs_.fit(data)\n",
    "\n",
    "# Best RMSE score\n",
    "print(gs_.best_score['rmse'])\n",
    "\n",
    "# Combination of parameters that gave the best RMSE score\n",
    "print(gs_.best_params['rmse'])\n"
   ],
   "outputs": [
    {
     "name": "stdout",
     "output_type": "stream",
     "text": [
      "Computing the cosine similarity matrix...\n",
      "Done computing similarity matrix.\n",
      "Computing the cosine similarity matrix...\n",
      "Done computing similarity matrix.\n",
      "Computing the msd similarity matrix...\n",
      "Done computing similarity matrix.\n",
      "Computing the msd similarity matrix...\n",
      "Done computing similarity matrix.\n",
      "Computing the cosine similarity matrix...\n",
      "Done computing similarity matrix.\n",
      "Estimating biases using als...\n",
      "Computing the pearson_baseline similarity matrix...\n",
      "Done computing similarity matrix.\n",
      "Computing the pearson similarity matrix...\n",
      "Done computing similarity matrix.\n",
      "Computing the cosine similarity matrix...\n",
      "Done computing similarity matrix.\n",
      "Computing the pearson similarity matrix...\n",
      "Done computing similarity matrix.\n",
      "Estimating biases using als...\n",
      "Computing the pearson_baseline similarity matrix...\n",
      "Done computing similarity matrix.\n",
      "Computing the pearson similarity matrix...\n",
      "Done computing similarity matrix.\n",
      "Computing the pearson similarity matrix...\n",
      "Done computing similarity matrix.\n",
      "Computing the cosine similarity matrix...\n",
      "Done computing similarity matrix.\n",
      "Computing the msd similarity matrix...\n",
      "Done computing similarity matrix.\n",
      "Computing the msd similarity matrix...\n",
      "Done computing similarity matrix.\n",
      "Computing the msd similarity matrix...\n",
      "Done computing similarity matrix.\n",
      "Computing the msd similarity matrix...\n",
      "Done computing similarity matrix.\n",
      "Computing the msd similarity matrix...\n",
      "Done computing similarity matrix.\n",
      "Computing the cosine similarity matrix...\n",
      "Done computing similarity matrix.\n"
     ]
    },
    {
     "name": "stderr",
     "output_type": "stream",
     "text": [
      "/opt/anaconda3/lib/python3.12/site-packages/joblib/externals/loky/process_executor.py:752: UserWarning: A worker stopped while some jobs were given to the executor. This can be caused by a too short worker timeout or by a memory leak.\n",
      "  warnings.warn(\n"
     ]
    },
    {
     "name": "stdout",
     "output_type": "stream",
     "text": [
      "Computing the cosine similarity matrix...\n",
      "Done computing similarity matrix.\n",
      "Computing the msd similarity matrix...\n",
      "Done computing similarity matrix.\n",
      "Computing the cosine similarity matrix...\n",
      "Done computing similarity matrix.\n",
      "Computing the msd similarity matrix...\n",
      "Done computing similarity matrix.\n",
      "Computing the cosine similarity matrix...\n",
      "Done computing similarity matrix.\n",
      "Computing the msd similarity matrix...\n",
      "Done computing similarity matrix.\n",
      "Computing the cosine similarity matrix...\n",
      "Done computing similarity matrix.\n",
      "Estimating biases using als...\n",
      "Computing the pearson_baseline similarity matrix...\n",
      "Done computing similarity matrix.\n",
      "Computing the cosine similarity matrix...\n",
      "Done computing similarity matrix.\n",
      "Estimating biases using als...\n",
      "Computing the pearson_baseline similarity matrix...\n",
      "Done computing similarity matrix.\n",
      "Computing the pearson similarity matrix...\n",
      "Done computing similarity matrix.\n",
      "Estimating biases using als...\n",
      "Computing the pearson_baseline similarity matrix...\n",
      "Done computing similarity matrix.\n",
      "Computing the cosine similarity matrix...\n",
      "Done computing similarity matrix.\n",
      "Estimating biases using als...\n",
      "Computing the pearson_baseline similarity matrix...\n",
      "Done computing similarity matrix.\n",
      "Computing the cosine similarity matrix...\n",
      "Done computing similarity matrix.\n",
      "Estimating biases using als...\n",
      "Computing the pearson_baseline similarity matrix...\n",
      "Done computing similarity matrix.\n",
      "Computing the cosine similarity matrix...\n",
      "Done computing similarity matrix.\n",
      "Computing the msd similarity matrix...\n",
      "Done computing similarity matrix.\n",
      "Computing the msd similarity matrix...\n",
      "Done computing similarity matrix.\n",
      "Computing the cosine similarity matrix...\n",
      "Done computing similarity matrix.\n",
      "Computing the cosine similarity matrix...\n",
      "Done computing similarity matrix.\n",
      "Computing the msd similarity matrix...\n",
      "Done computing similarity matrix.\n",
      "Computing the cosine similarity matrix...\n",
      "Done computing similarity matrix.\n",
      "0.8985815946742113\n",
      "{'n_epochs': 20, 'lr_all': 0.01, 'reg_all': 0.2}\n"
     ]
    }
   ],
   "execution_count": 202
  },
  {
   "cell_type": "markdown",
   "metadata": {
    "id": "KzY78HsrnVNO"
   },
   "source": "**Building final model** using **tuned values** of the hyperparameters from grid search cross-validation."
  },
  {
   "cell_type": "code",
   "metadata": {
    "id": "TA_7xe-nnhuu",
    "ExecuteTime": {
     "end_time": "2024-12-27T11:20:27.947066Z",
     "start_time": "2024-12-27T11:20:27.610671Z"
    }
   },
   "source": [
    "# Building optimized SVD model using optimal hyperparameters and random_state=1\n",
    "svd_optimized = SVD(n_epochs=20, lr_all=0.01, reg_all=0.2, random_state=1)\n",
    "\n",
    "# Training algorithm on trainset\n",
    "svd_optimized=svd_optimized.fit(trainset)\n",
    "\n",
    "# Using function precision_recall_at_k to compute precision, recall, F1-Score, and RMSE\n",
    "precision_recall_at_k(svd_optimized)"
   ],
   "outputs": [
    {
     "name": "stdout",
     "output_type": "stream",
     "text": [
      "RMSE: 0.8899\n",
      "Precision:  0.862\n",
      "Recall:  0.796\n",
      "F_1 score:  0.828\n"
     ]
    }
   ],
   "execution_count": 203
  },
  {
   "cell_type": "markdown",
   "metadata": {
    "id": "9HJvPsjITsny"
   },
   "source": "**Using optimized hyperparameters from grid search f-1 score was 0.828, the best model so far**"
  },
  {
   "cell_type": "markdown",
   "metadata": {},
   "source": [
    "### **Steps:**\n",
    "- **1. Predicting rating for the user with `userId=\"A3LDPF5FMB782Z\"`, and `prod_id= \"1400501466\"` using optimized model**\n",
    "- **2. Predicting rating for `userId=\"A34BZM6S9L7QI4\"` who has not interacted with `prod_id =\"1400501466\"` using optimized model**\n",
    "- **3. Comparing the output with the output from the baseline model**"
   ]
  },
  {
   "cell_type": "code",
   "metadata": {
    "ExecuteTime": {
     "end_time": "2024-12-27T11:20:27.951060Z",
     "start_time": "2024-12-27T11:20:27.947994Z"
    }
   },
   "source": [
    "# Using svd_algo_optimized model to recommend for userId \"A3LDPF5FMB782Z\" and productId \"1400501466\"\n",
    "svd_optimized.predict('A3LDPF5FMB782Z', 1400501466, r_ui=2, verbose=True)\n"
   ],
   "outputs": [
    {
     "name": "stdout",
     "output_type": "stream",
     "text": [
      "user: A3LDPF5FMB782Z item: 1400501466 r_ui = 2.00   est = 4.25   {'was_impossible': False}\n"
     ]
    },
    {
     "data": {
      "text/plain": [
       "Prediction(uid='A3LDPF5FMB782Z', iid=1400501466, r_ui=2, est=4.254722240912163, details={'was_impossible': False})"
      ]
     },
     "execution_count": 204,
     "metadata": {},
     "output_type": "execute_result"
    }
   ],
   "execution_count": 204
  },
  {
   "cell_type": "code",
   "metadata": {
    "ExecuteTime": {
     "end_time": "2024-12-27T11:20:27.953748Z",
     "start_time": "2024-12-27T11:20:27.951721Z"
    }
   },
   "source": [
    "# Using svd_algo_optimized model to recommend for userId \"A34BZM6S9L7QI4\" and productId \"1400501466\"\n",
    "svd_optimized.predict('A34BZM6S9L7QI4', 1400501466, verbose=True)\n"
   ],
   "outputs": [
    {
     "name": "stdout",
     "output_type": "stream",
     "text": [
      "user: A34BZM6S9L7QI4 item: 1400501466 r_ui = None   est = 4.51   {'was_impossible': False}\n"
     ]
    },
    {
     "data": {
      "text/plain": [
       "Prediction(uid='A34BZM6S9L7QI4', iid=1400501466, r_ui=None, est=4.509731219634886, details={'was_impossible': False})"
      ]
     },
     "execution_count": 205,
     "metadata": {},
     "output_type": "execute_result"
    }
   ],
   "execution_count": 205
  },
  {
   "cell_type": "markdown",
   "metadata": {
    "id": "nnwPwgjB8DwS"
   },
   "source": [
    "### **Conclusion and Recommendations**"
   ]
  },
  {
   "cell_type": "code",
   "source": "#Overall SVD models worked better than using k-nearest algorithm to group users to predict rating or group items to predict rating. Both methods of grouping made very similar models which performed almost the same. The dataset is heavily imbalanced as more than half the ratings are 5, this is probably what is causing all models to consistently predict ratings greater than 4 and similar to the overall mean of all ratings. To better train the models in the future I would want to create a dataset through bootstrapping or synthetically made dataset where minority classes of ratings are oversampled through simple random replacement.",
   "metadata": {
    "collapsed": false,
    "ExecuteTime": {
     "end_time": "2024-12-27T11:20:27.956246Z",
     "start_time": "2024-12-27T11:20:27.954535Z"
    }
   },
   "outputs": [],
   "execution_count": 206
  },
  {
   "cell_type": "markdown",
   "metadata": {
    "id": "xuqnifw9NF2p"
   },
   "source": ""
  }
 ],
 "metadata": {
  "colab": {
   "provenance": []
  },
  "kernelspec": {
   "display_name": "Python 3 (ipykernel)",
   "language": "python",
   "name": "python3"
  },
  "language_info": {
   "codemirror_mode": {
    "name": "ipython",
    "version": 3
   },
   "file_extension": ".py",
   "mimetype": "text/x-python",
   "name": "python",
   "nbconvert_exporter": "python",
   "pygments_lexer": "ipython3",
   "version": "3.9.7"
  }
 },
 "nbformat": 4,
 "nbformat_minor": 1
}
